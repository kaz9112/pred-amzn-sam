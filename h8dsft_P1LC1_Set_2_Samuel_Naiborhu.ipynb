{
 "cells": [
  {
   "attachments": {},
   "cell_type": "markdown",
   "metadata": {},
   "source": [
    "Dataset : New York Stock Exchange\n",
    "\n",
    "Objective : predict Amazon stocks closing price using linear regression"
   ]
  },
  {
   "cell_type": "markdown",
   "metadata": {},
   "source": [
    "## 2.1. Buatlah model linear regression untuk memprediksi closing price saham Amazon (Dataset URL). Gunakan file prices-split-adjusted.csv dalam kasus ini."
   ]
  },
  {
   "attachments": {},
   "cell_type": "markdown",
   "metadata": {},
   "source": [
    "### 2.1.1 Import Library"
   ]
  },
  {
   "cell_type": "code",
   "execution_count": null,
   "metadata": {},
   "outputs": [],
   "source": [
    "# !pip install feature-engine"
   ]
  },
  {
   "cell_type": "code",
   "execution_count": 174,
   "metadata": {},
   "outputs": [],
   "source": [
    "# import library\n",
    "\n",
    "import pandas as pd\n",
    "import seaborn as sns\n",
    "sns.set()\n",
    "import matplotlib.pyplot as plt\n",
    "import numpy as np\n",
    "\n",
    "import sklearn\n",
    "from sklearn.model_selection import train_test_split\n",
    "from sklearn.linear_model import LinearRegression\n",
    "from sklearn.preprocessing import MinMaxScaler\n",
    "from sklearn.metrics import mean_absolute_error, r2_score\n",
    "\n",
    "import joblib\n",
    "import json"
   ]
  },
  {
   "cell_type": "markdown",
   "metadata": {},
   "source": [
    "### 2.1.2 Data loading"
   ]
  },
  {
   "cell_type": "code",
   "execution_count": 3,
   "metadata": {},
   "outputs": [
    {
     "data": {
      "text/html": [
       "<div>\n",
       "<style scoped>\n",
       "    .dataframe tbody tr th:only-of-type {\n",
       "        vertical-align: middle;\n",
       "    }\n",
       "\n",
       "    .dataframe tbody tr th {\n",
       "        vertical-align: top;\n",
       "    }\n",
       "\n",
       "    .dataframe thead th {\n",
       "        text-align: right;\n",
       "    }\n",
       "</style>\n",
       "<table border=\"1\" class=\"dataframe\">\n",
       "  <thead>\n",
       "    <tr style=\"text-align: right;\">\n",
       "      <th></th>\n",
       "      <th>date</th>\n",
       "      <th>symbol</th>\n",
       "      <th>open</th>\n",
       "      <th>close</th>\n",
       "      <th>low</th>\n",
       "      <th>high</th>\n",
       "      <th>volume</th>\n",
       "    </tr>\n",
       "  </thead>\n",
       "  <tbody>\n",
       "    <tr>\n",
       "      <th>0</th>\n",
       "      <td>2016-01-05</td>\n",
       "      <td>WLTW</td>\n",
       "      <td>123.430000</td>\n",
       "      <td>125.839996</td>\n",
       "      <td>122.309998</td>\n",
       "      <td>126.250000</td>\n",
       "      <td>2163600.0</td>\n",
       "    </tr>\n",
       "    <tr>\n",
       "      <th>1</th>\n",
       "      <td>2016-01-06</td>\n",
       "      <td>WLTW</td>\n",
       "      <td>125.239998</td>\n",
       "      <td>119.980003</td>\n",
       "      <td>119.940002</td>\n",
       "      <td>125.540001</td>\n",
       "      <td>2386400.0</td>\n",
       "    </tr>\n",
       "    <tr>\n",
       "      <th>2</th>\n",
       "      <td>2016-01-07</td>\n",
       "      <td>WLTW</td>\n",
       "      <td>116.379997</td>\n",
       "      <td>114.949997</td>\n",
       "      <td>114.930000</td>\n",
       "      <td>119.739998</td>\n",
       "      <td>2489500.0</td>\n",
       "    </tr>\n",
       "    <tr>\n",
       "      <th>3</th>\n",
       "      <td>2016-01-08</td>\n",
       "      <td>WLTW</td>\n",
       "      <td>115.480003</td>\n",
       "      <td>116.620003</td>\n",
       "      <td>113.500000</td>\n",
       "      <td>117.440002</td>\n",
       "      <td>2006300.0</td>\n",
       "    </tr>\n",
       "    <tr>\n",
       "      <th>4</th>\n",
       "      <td>2016-01-11</td>\n",
       "      <td>WLTW</td>\n",
       "      <td>117.010002</td>\n",
       "      <td>114.970001</td>\n",
       "      <td>114.089996</td>\n",
       "      <td>117.330002</td>\n",
       "      <td>1408600.0</td>\n",
       "    </tr>\n",
       "  </tbody>\n",
       "</table>\n",
       "</div>"
      ],
      "text/plain": [
       "         date symbol        open       close         low        high  \\\n",
       "0  2016-01-05   WLTW  123.430000  125.839996  122.309998  126.250000   \n",
       "1  2016-01-06   WLTW  125.239998  119.980003  119.940002  125.540001   \n",
       "2  2016-01-07   WLTW  116.379997  114.949997  114.930000  119.739998   \n",
       "3  2016-01-08   WLTW  115.480003  116.620003  113.500000  117.440002   \n",
       "4  2016-01-11   WLTW  117.010002  114.970001  114.089996  117.330002   \n",
       "\n",
       "      volume  \n",
       "0  2163600.0  \n",
       "1  2386400.0  \n",
       "2  2489500.0  \n",
       "3  2006300.0  \n",
       "4  1408600.0  "
      ]
     },
     "execution_count": 3,
     "metadata": {},
     "output_type": "execute_result"
    }
   ],
   "source": [
    "# Load dataset\n",
    "raw_data = pd.read_csv('prices-split-adjusted.csv')\n",
    "raw_data.head()"
   ]
  },
  {
   "cell_type": "code",
   "execution_count": 4,
   "metadata": {},
   "outputs": [],
   "source": [
    "# Duplicate data\n",
    "raw_data_1 = raw_data.copy()"
   ]
  },
  {
   "cell_type": "code",
   "execution_count": 5,
   "metadata": {},
   "outputs": [
    {
     "data": {
      "text/html": [
       "<div>\n",
       "<style scoped>\n",
       "    .dataframe tbody tr th:only-of-type {\n",
       "        vertical-align: middle;\n",
       "    }\n",
       "\n",
       "    .dataframe tbody tr th {\n",
       "        vertical-align: top;\n",
       "    }\n",
       "\n",
       "    .dataframe thead th {\n",
       "        text-align: right;\n",
       "    }\n",
       "</style>\n",
       "<table border=\"1\" class=\"dataframe\">\n",
       "  <thead>\n",
       "    <tr style=\"text-align: right;\">\n",
       "      <th></th>\n",
       "      <th>date</th>\n",
       "      <th>symbol</th>\n",
       "      <th>open</th>\n",
       "      <th>close</th>\n",
       "      <th>low</th>\n",
       "      <th>high</th>\n",
       "      <th>volume</th>\n",
       "    </tr>\n",
       "  </thead>\n",
       "  <tbody>\n",
       "    <tr>\n",
       "      <th>284</th>\n",
       "      <td>2010-01-04</td>\n",
       "      <td>AMZN</td>\n",
       "      <td>136.250000</td>\n",
       "      <td>133.899994</td>\n",
       "      <td>133.139999</td>\n",
       "      <td>136.610001</td>\n",
       "      <td>7599900.0</td>\n",
       "    </tr>\n",
       "    <tr>\n",
       "      <th>751</th>\n",
       "      <td>2010-01-05</td>\n",
       "      <td>AMZN</td>\n",
       "      <td>133.429993</td>\n",
       "      <td>134.690002</td>\n",
       "      <td>131.809998</td>\n",
       "      <td>135.479996</td>\n",
       "      <td>8851900.0</td>\n",
       "    </tr>\n",
       "    <tr>\n",
       "      <th>1219</th>\n",
       "      <td>2010-01-06</td>\n",
       "      <td>AMZN</td>\n",
       "      <td>134.600006</td>\n",
       "      <td>132.250000</td>\n",
       "      <td>131.649994</td>\n",
       "      <td>134.729996</td>\n",
       "      <td>7178800.0</td>\n",
       "    </tr>\n",
       "    <tr>\n",
       "      <th>1687</th>\n",
       "      <td>2010-01-07</td>\n",
       "      <td>AMZN</td>\n",
       "      <td>132.009995</td>\n",
       "      <td>130.000000</td>\n",
       "      <td>128.800003</td>\n",
       "      <td>132.320007</td>\n",
       "      <td>11030200.0</td>\n",
       "    </tr>\n",
       "    <tr>\n",
       "      <th>2155</th>\n",
       "      <td>2010-01-08</td>\n",
       "      <td>AMZN</td>\n",
       "      <td>130.559998</td>\n",
       "      <td>133.520004</td>\n",
       "      <td>129.029999</td>\n",
       "      <td>133.679993</td>\n",
       "      <td>9830500.0</td>\n",
       "    </tr>\n",
       "  </tbody>\n",
       "</table>\n",
       "</div>"
      ],
      "text/plain": [
       "            date symbol        open       close         low        high  \\\n",
       "284   2010-01-04   AMZN  136.250000  133.899994  133.139999  136.610001   \n",
       "751   2010-01-05   AMZN  133.429993  134.690002  131.809998  135.479996   \n",
       "1219  2010-01-06   AMZN  134.600006  132.250000  131.649994  134.729996   \n",
       "1687  2010-01-07   AMZN  132.009995  130.000000  128.800003  132.320007   \n",
       "2155  2010-01-08   AMZN  130.559998  133.520004  129.029999  133.679993   \n",
       "\n",
       "          volume  \n",
       "284    7599900.0  \n",
       "751    8851900.0  \n",
       "1219   7178800.0  \n",
       "1687  11030200.0  \n",
       "2155   9830500.0  "
      ]
     },
     "execution_count": 5,
     "metadata": {},
     "output_type": "execute_result"
    }
   ],
   "source": [
    "raw_data_2 = raw_data_1[raw_data_1['symbol'] == 'AMZN']\n",
    "raw_data_2.head()"
   ]
  },
  {
   "cell_type": "markdown",
   "metadata": {},
   "source": [
    "### 2.1.3 Exploratory Data Analysis"
   ]
  },
  {
   "cell_type": "code",
   "execution_count": 176,
   "metadata": {},
   "outputs": [
    {
     "data": {
      "image/png": "[encoded data removed]",
      "text/plain": [
       "<Figure size 936x576 with 3 Axes>"
      ]
     },
     "metadata": {},
     "output_type": "display_data"
    }
   ],
   "source": [
    "# Create Plot\n",
    "\n",
    "plt.figure(figsize=(13, 8))\n",
    "plt.subplot(2,2,1)\n",
    "sns.lineplot(y = 'close', x= 'date', data= raw_data_2)\n",
    "plt.title('time series of amazon close price')\n",
    "\n",
    "# plt.subplot(2,2,2)\n",
    "# sns.scatterplot(x='price', y='distance', data=data)\n",
    "# plt.title('price vs distance')\n",
    "\n",
    "plt.subplot(2,2,2)\n",
    "sns.histplot(raw_data_2['close'], bins=20)\n",
    "plt.title('Histogram of close price')\n",
    "\n",
    "plt.subplot(2,2,3)\n",
    "sns.histplot(raw_data_2['volume'], bins=20)\n",
    "plt.title('histogram of volume traded')\n",
    "\n",
    "\n",
    "plt.tight_layout()\n",
    "plt.show()"
   ]
  },
  {
   "cell_type": "markdown",
   "metadata": {},
   "source": [
    "Harga stock amazon Melonjak drastis di tahun 2011an. "
   ]
  },
  {
   "cell_type": "markdown",
   "metadata": {},
   "source": [
    "### 2.1.4 Data Preprocessing"
   ]
  },
  {
   "cell_type": "markdown",
   "metadata": {},
   "source": [
    "#### 2.1.4.1 Splitting data"
   ]
  },
  {
   "cell_type": "code",
   "execution_count": 7,
   "metadata": {},
   "outputs": [
    {
     "data": {
      "text/html": [
       "<div>\n",
       "<style scoped>\n",
       "    .dataframe tbody tr th:only-of-type {\n",
       "        vertical-align: middle;\n",
       "    }\n",
       "\n",
       "    .dataframe tbody tr th {\n",
       "        vertical-align: top;\n",
       "    }\n",
       "\n",
       "    .dataframe thead th {\n",
       "        text-align: right;\n",
       "    }\n",
       "</style>\n",
       "<table border=\"1\" class=\"dataframe\">\n",
       "  <thead>\n",
       "    <tr style=\"text-align: right;\">\n",
       "      <th></th>\n",
       "      <th>date</th>\n",
       "      <th>symbol</th>\n",
       "      <th>open</th>\n",
       "      <th>close</th>\n",
       "      <th>low</th>\n",
       "      <th>high</th>\n",
       "      <th>volume</th>\n",
       "    </tr>\n",
       "  </thead>\n",
       "  <tbody>\n",
       "    <tr>\n",
       "      <th>709956</th>\n",
       "      <td>2015-11-17</td>\n",
       "      <td>AMZN</td>\n",
       "      <td>650.650024</td>\n",
       "      <td>643.299988</td>\n",
       "      <td>641.000000</td>\n",
       "      <td>653.250000</td>\n",
       "      <td>4320200.0</td>\n",
       "    </tr>\n",
       "    <tr>\n",
       "      <th>781313</th>\n",
       "      <td>2016-06-14</td>\n",
       "      <td>AMZN</td>\n",
       "      <td>712.330017</td>\n",
       "      <td>719.299988</td>\n",
       "      <td>712.270020</td>\n",
       "      <td>720.809998</td>\n",
       "      <td>2506900.0</td>\n",
       "    </tr>\n",
       "    <tr>\n",
       "      <th>733409</th>\n",
       "      <td>2016-01-27</td>\n",
       "      <td>AMZN</td>\n",
       "      <td>601.989990</td>\n",
       "      <td>583.349976</td>\n",
       "      <td>578.780029</td>\n",
       "      <td>603.390015</td>\n",
       "      <td>5152900.0</td>\n",
       "    </tr>\n",
       "    <tr>\n",
       "      <th>100101</th>\n",
       "      <td>2010-11-05</td>\n",
       "      <td>AMZN</td>\n",
       "      <td>169.350006</td>\n",
       "      <td>170.770004</td>\n",
       "      <td>168.589996</td>\n",
       "      <td>171.649994</td>\n",
       "      <td>5212200.0</td>\n",
       "    </tr>\n",
       "    <tr>\n",
       "      <th>71492</th>\n",
       "      <td>2010-08-11</td>\n",
       "      <td>AMZN</td>\n",
       "      <td>128.100006</td>\n",
       "      <td>125.889999</td>\n",
       "      <td>125.199997</td>\n",
       "      <td>128.119995</td>\n",
       "      <td>5541700.0</td>\n",
       "    </tr>\n",
       "  </tbody>\n",
       "</table>\n",
       "</div>"
      ],
      "text/plain": [
       "              date symbol        open       close         low        high  \\\n",
       "709956  2015-11-17   AMZN  650.650024  643.299988  641.000000  653.250000   \n",
       "781313  2016-06-14   AMZN  712.330017  719.299988  712.270020  720.809998   \n",
       "733409  2016-01-27   AMZN  601.989990  583.349976  578.780029  603.390015   \n",
       "100101  2010-11-05   AMZN  169.350006  170.770004  168.589996  171.649994   \n",
       "71492   2010-08-11   AMZN  128.100006  125.889999  125.199997  128.119995   \n",
       "\n",
       "           volume  \n",
       "709956  4320200.0  \n",
       "781313  2506900.0  \n",
       "733409  5152900.0  \n",
       "100101  5212200.0  \n",
       "71492   5541700.0  "
      ]
     },
     "execution_count": 7,
     "metadata": {},
     "output_type": "execute_result"
    }
   ],
   "source": [
    "# define data inference\n",
    "inf_count =  round(raw_data_2.shape[0]*0.05)\n",
    "data_inf = raw_data_2.sample(inf_count, random_state=33)\n",
    "data_inf.head()"
   ]
  },
  {
   "cell_type": "code",
   "execution_count": 8,
   "metadata": {},
   "outputs": [
    {
     "data": {
      "text/plain": [
       "1674"
      ]
     },
     "execution_count": 8,
     "metadata": {},
     "output_type": "execute_result"
    }
   ],
   "source": [
    "# drop data inference from the main data\n",
    "raw_data_3 = raw_data_2.drop(data_inf.index)\n",
    "raw_data_3.shape[0]"
   ]
  },
  {
   "cell_type": "code",
   "execution_count": 9,
   "metadata": {},
   "outputs": [
    {
     "data": {
      "text/html": [
       "<div>\n",
       "<style scoped>\n",
       "    .dataframe tbody tr th:only-of-type {\n",
       "        vertical-align: middle;\n",
       "    }\n",
       "\n",
       "    .dataframe tbody tr th {\n",
       "        vertical-align: top;\n",
       "    }\n",
       "\n",
       "    .dataframe thead th {\n",
       "        text-align: right;\n",
       "    }\n",
       "</style>\n",
       "<table border=\"1\" class=\"dataframe\">\n",
       "  <thead>\n",
       "    <tr style=\"text-align: right;\">\n",
       "      <th></th>\n",
       "      <th>date</th>\n",
       "      <th>symbol</th>\n",
       "      <th>open</th>\n",
       "      <th>close</th>\n",
       "      <th>low</th>\n",
       "      <th>high</th>\n",
       "      <th>volume</th>\n",
       "    </tr>\n",
       "  </thead>\n",
       "  <tbody>\n",
       "    <tr>\n",
       "      <th>0</th>\n",
       "      <td>2015-11-17</td>\n",
       "      <td>AMZN</td>\n",
       "      <td>650.650024</td>\n",
       "      <td>643.299988</td>\n",
       "      <td>641.000000</td>\n",
       "      <td>653.250000</td>\n",
       "      <td>4320200.0</td>\n",
       "    </tr>\n",
       "    <tr>\n",
       "      <th>1</th>\n",
       "      <td>2016-06-14</td>\n",
       "      <td>AMZN</td>\n",
       "      <td>712.330017</td>\n",
       "      <td>719.299988</td>\n",
       "      <td>712.270020</td>\n",
       "      <td>720.809998</td>\n",
       "      <td>2506900.0</td>\n",
       "    </tr>\n",
       "    <tr>\n",
       "      <th>2</th>\n",
       "      <td>2016-01-27</td>\n",
       "      <td>AMZN</td>\n",
       "      <td>601.989990</td>\n",
       "      <td>583.349976</td>\n",
       "      <td>578.780029</td>\n",
       "      <td>603.390015</td>\n",
       "      <td>5152900.0</td>\n",
       "    </tr>\n",
       "    <tr>\n",
       "      <th>3</th>\n",
       "      <td>2010-11-05</td>\n",
       "      <td>AMZN</td>\n",
       "      <td>169.350006</td>\n",
       "      <td>170.770004</td>\n",
       "      <td>168.589996</td>\n",
       "      <td>171.649994</td>\n",
       "      <td>5212200.0</td>\n",
       "    </tr>\n",
       "    <tr>\n",
       "      <th>4</th>\n",
       "      <td>2010-08-11</td>\n",
       "      <td>AMZN</td>\n",
       "      <td>128.100006</td>\n",
       "      <td>125.889999</td>\n",
       "      <td>125.199997</td>\n",
       "      <td>128.119995</td>\n",
       "      <td>5541700.0</td>\n",
       "    </tr>\n",
       "  </tbody>\n",
       "</table>\n",
       "</div>"
      ],
      "text/plain": [
       "         date symbol        open       close         low        high  \\\n",
       "0  2015-11-17   AMZN  650.650024  643.299988  641.000000  653.250000   \n",
       "1  2016-06-14   AMZN  712.330017  719.299988  712.270020  720.809998   \n",
       "2  2016-01-27   AMZN  601.989990  583.349976  578.780029  603.390015   \n",
       "3  2010-11-05   AMZN  169.350006  170.770004  168.589996  171.649994   \n",
       "4  2010-08-11   AMZN  128.100006  125.889999  125.199997  128.119995   \n",
       "\n",
       "      volume  \n",
       "0  4320200.0  \n",
       "1  2506900.0  \n",
       "2  5152900.0  \n",
       "3  5212200.0  \n",
       "4  5541700.0  "
      ]
     },
     "execution_count": 9,
     "metadata": {},
     "output_type": "execute_result"
    }
   ],
   "source": [
    "data_inf.reset_index(drop=True, inplace=True)\n",
    "data_inf.head()"
   ]
  },
  {
   "cell_type": "code",
   "execution_count": 10,
   "metadata": {},
   "outputs": [
    {
     "data": {
      "text/html": [
       "<div>\n",
       "<style scoped>\n",
       "    .dataframe tbody tr th:only-of-type {\n",
       "        vertical-align: middle;\n",
       "    }\n",
       "\n",
       "    .dataframe tbody tr th {\n",
       "        vertical-align: top;\n",
       "    }\n",
       "\n",
       "    .dataframe thead th {\n",
       "        text-align: right;\n",
       "    }\n",
       "</style>\n",
       "<table border=\"1\" class=\"dataframe\">\n",
       "  <thead>\n",
       "    <tr style=\"text-align: right;\">\n",
       "      <th></th>\n",
       "      <th>date</th>\n",
       "      <th>symbol</th>\n",
       "      <th>open</th>\n",
       "      <th>low</th>\n",
       "      <th>high</th>\n",
       "      <th>volume</th>\n",
       "    </tr>\n",
       "  </thead>\n",
       "  <tbody>\n",
       "    <tr>\n",
       "      <th>284</th>\n",
       "      <td>2010-01-04</td>\n",
       "      <td>AMZN</td>\n",
       "      <td>136.250000</td>\n",
       "      <td>133.139999</td>\n",
       "      <td>136.610001</td>\n",
       "      <td>7599900.0</td>\n",
       "    </tr>\n",
       "    <tr>\n",
       "      <th>751</th>\n",
       "      <td>2010-01-05</td>\n",
       "      <td>AMZN</td>\n",
       "      <td>133.429993</td>\n",
       "      <td>131.809998</td>\n",
       "      <td>135.479996</td>\n",
       "      <td>8851900.0</td>\n",
       "    </tr>\n",
       "    <tr>\n",
       "      <th>1219</th>\n",
       "      <td>2010-01-06</td>\n",
       "      <td>AMZN</td>\n",
       "      <td>134.600006</td>\n",
       "      <td>131.649994</td>\n",
       "      <td>134.729996</td>\n",
       "      <td>7178800.0</td>\n",
       "    </tr>\n",
       "    <tr>\n",
       "      <th>1687</th>\n",
       "      <td>2010-01-07</td>\n",
       "      <td>AMZN</td>\n",
       "      <td>132.009995</td>\n",
       "      <td>128.800003</td>\n",
       "      <td>132.320007</td>\n",
       "      <td>11030200.0</td>\n",
       "    </tr>\n",
       "    <tr>\n",
       "      <th>2155</th>\n",
       "      <td>2010-01-08</td>\n",
       "      <td>AMZN</td>\n",
       "      <td>130.559998</td>\n",
       "      <td>129.029999</td>\n",
       "      <td>133.679993</td>\n",
       "      <td>9830500.0</td>\n",
       "    </tr>\n",
       "  </tbody>\n",
       "</table>\n",
       "</div>"
      ],
      "text/plain": [
       "            date symbol        open         low        high      volume\n",
       "284   2010-01-04   AMZN  136.250000  133.139999  136.610001   7599900.0\n",
       "751   2010-01-05   AMZN  133.429993  131.809998  135.479996   8851900.0\n",
       "1219  2010-01-06   AMZN  134.600006  131.649994  134.729996   7178800.0\n",
       "1687  2010-01-07   AMZN  132.009995  128.800003  132.320007  11030200.0\n",
       "2155  2010-01-08   AMZN  130.559998  129.029999  133.679993   9830500.0"
      ]
     },
     "execution_count": 10,
     "metadata": {},
     "output_type": "execute_result"
    }
   ],
   "source": [
    "# define features variable\n",
    "X = raw_data_3.drop('close', axis=1)\n",
    "X.head()"
   ]
  },
  {
   "cell_type": "code",
   "execution_count": 11,
   "metadata": {},
   "outputs": [
    {
     "data": {
      "text/plain": [
       "284     133.899994\n",
       "751     134.690002\n",
       "1219    132.250000\n",
       "1687    130.000000\n",
       "2155    133.520004\n",
       "Name: close, dtype: float64"
      ]
     },
     "execution_count": 11,
     "metadata": {},
     "output_type": "execute_result"
    }
   ],
   "source": [
    "# define target variable\n",
    "y = raw_data_3['close']\n",
    "y.head()"
   ]
  },
  {
   "cell_type": "code",
   "execution_count": 12,
   "metadata": {},
   "outputs": [
    {
     "name": "stdout",
     "output_type": "stream",
     "text": [
      "Train Size :  (1422, 6)\n",
      "Test Size  :  (252, 6)\n"
     ]
    }
   ],
   "source": [
    "# Split between train and test sets\n",
    "X_train, X_test, y_train, y_test = train_test_split(X, y, test_size=0.15, random_state=33)\n",
    "\n",
    "print('Train Size : ', X_train.shape)\n",
    "print('Test Size  : ', X_test.shape)"
   ]
  },
  {
   "cell_type": "code",
   "execution_count": 22,
   "metadata": {},
   "outputs": [
    {
     "data": {
      "text/html": [
       "<div>\n",
       "<style scoped>\n",
       "    .dataframe tbody tr th:only-of-type {\n",
       "        vertical-align: middle;\n",
       "    }\n",
       "\n",
       "    .dataframe tbody tr th {\n",
       "        vertical-align: top;\n",
       "    }\n",
       "\n",
       "    .dataframe thead th {\n",
       "        text-align: right;\n",
       "    }\n",
       "</style>\n",
       "<table border=\"1\" class=\"dataframe\">\n",
       "  <thead>\n",
       "    <tr style=\"text-align: right;\">\n",
       "      <th></th>\n",
       "      <th>date</th>\n",
       "      <th>symbol</th>\n",
       "      <th>open</th>\n",
       "      <th>low</th>\n",
       "      <th>high</th>\n",
       "      <th>volume</th>\n",
       "    </tr>\n",
       "  </thead>\n",
       "  <tbody>\n",
       "    <tr>\n",
       "      <th>218532</th>\n",
       "      <td>2011-11-04</td>\n",
       "      <td>AMZN</td>\n",
       "      <td>217.649994</td>\n",
       "      <td>214.330002</td>\n",
       "      <td>218.229996</td>\n",
       "      <td>4065800.0</td>\n",
       "    </tr>\n",
       "    <tr>\n",
       "      <th>775824</th>\n",
       "      <td>2016-05-27</td>\n",
       "      <td>AMZN</td>\n",
       "      <td>715.000000</td>\n",
       "      <td>711.099976</td>\n",
       "      <td>716.599976</td>\n",
       "      <td>2246400.0</td>\n",
       "    </tr>\n",
       "    <tr>\n",
       "      <th>569108</th>\n",
       "      <td>2014-10-01</td>\n",
       "      <td>AMZN</td>\n",
       "      <td>322.040009</td>\n",
       "      <td>315.549988</td>\n",
       "      <td>322.170013</td>\n",
       "      <td>3089100.0</td>\n",
       "    </tr>\n",
       "    <tr>\n",
       "      <th>86031</th>\n",
       "      <td>2010-09-24</td>\n",
       "      <td>AMZN</td>\n",
       "      <td>155.429993</td>\n",
       "      <td>155.419998</td>\n",
       "      <td>160.889999</td>\n",
       "      <td>10590600.0</td>\n",
       "    </tr>\n",
       "    <tr>\n",
       "      <th>309712</th>\n",
       "      <td>2012-08-14</td>\n",
       "      <td>AMZN</td>\n",
       "      <td>234.710007</td>\n",
       "      <td>232.619995</td>\n",
       "      <td>236.720001</td>\n",
       "      <td>2751000.0</td>\n",
       "    </tr>\n",
       "    <tr>\n",
       "      <th>...</th>\n",
       "      <td>...</td>\n",
       "      <td>...</td>\n",
       "      <td>...</td>\n",
       "      <td>...</td>\n",
       "      <td>...</td>\n",
       "      <td>...</td>\n",
       "    </tr>\n",
       "    <tr>\n",
       "      <th>612324</th>\n",
       "      <td>2015-02-06</td>\n",
       "      <td>AMZN</td>\n",
       "      <td>374.869995</td>\n",
       "      <td>371.010010</td>\n",
       "      <td>375.989990</td>\n",
       "      <td>3892400.0</td>\n",
       "    </tr>\n",
       "    <tr>\n",
       "      <th>321932</th>\n",
       "      <td>2012-09-20</td>\n",
       "      <td>AMZN</td>\n",
       "      <td>260.029999</td>\n",
       "      <td>258.000000</td>\n",
       "      <td>260.869995</td>\n",
       "      <td>2913600.0</td>\n",
       "    </tr>\n",
       "    <tr>\n",
       "      <th>283392</th>\n",
       "      <td>2012-05-24</td>\n",
       "      <td>AMZN</td>\n",
       "      <td>216.979996</td>\n",
       "      <td>212.699997</td>\n",
       "      <td>217.660004</td>\n",
       "      <td>3141100.0</td>\n",
       "    </tr>\n",
       "    <tr>\n",
       "      <th>192682</th>\n",
       "      <td>2011-08-18</td>\n",
       "      <td>AMZN</td>\n",
       "      <td>191.210007</td>\n",
       "      <td>179.720001</td>\n",
       "      <td>191.339996</td>\n",
       "      <td>8275200.0</td>\n",
       "    </tr>\n",
       "    <tr>\n",
       "      <th>517658</th>\n",
       "      <td>2014-05-02</td>\n",
       "      <td>AMZN</td>\n",
       "      <td>310.420013</td>\n",
       "      <td>304.309998</td>\n",
       "      <td>313.290009</td>\n",
       "      <td>3995100.0</td>\n",
       "    </tr>\n",
       "  </tbody>\n",
       "</table>\n",
       "<p>1422 rows × 6 columns</p>\n",
       "</div>"
      ],
      "text/plain": [
       "              date symbol        open         low        high      volume\n",
       "218532  2011-11-04   AMZN  217.649994  214.330002  218.229996   4065800.0\n",
       "775824  2016-05-27   AMZN  715.000000  711.099976  716.599976   2246400.0\n",
       "569108  2014-10-01   AMZN  322.040009  315.549988  322.170013   3089100.0\n",
       "86031   2010-09-24   AMZN  155.429993  155.419998  160.889999  10590600.0\n",
       "309712  2012-08-14   AMZN  234.710007  232.619995  236.720001   2751000.0\n",
       "...            ...    ...         ...         ...         ...         ...\n",
       "612324  2015-02-06   AMZN  374.869995  371.010010  375.989990   3892400.0\n",
       "321932  2012-09-20   AMZN  260.029999  258.000000  260.869995   2913600.0\n",
       "283392  2012-05-24   AMZN  216.979996  212.699997  217.660004   3141100.0\n",
       "192682  2011-08-18   AMZN  191.210007  179.720001  191.339996   8275200.0\n",
       "517658  2014-05-02   AMZN  310.420013  304.309998  313.290009   3995100.0\n",
       "\n",
       "[1422 rows x 6 columns]"
      ]
     },
     "execution_count": 22,
     "metadata": {},
     "output_type": "execute_result"
    }
   ],
   "source": [
    "X_train"
   ]
  },
  {
   "cell_type": "markdown",
   "metadata": {},
   "source": [
    "#### 2.1.4.2 Handling outlier"
   ]
  },
  {
   "cell_type": "code",
   "execution_count": 23,
   "metadata": {},
   "outputs": [],
   "source": [
    "# Function to create histogram and boxplot.\n",
    "# This functions takes a dataframe (df) and the variable of interest as arguments.\n",
    "\n",
    "def diagnostic_plots(df, variable):\n",
    "    # Define figure size\n",
    "    plt.figure(figsize=(16, 4))\n",
    "\n",
    "    # Histogram\n",
    "    plt.subplot(1, 2, 1)\n",
    "    sns.histplot(df[variable], bins=30)\n",
    "    plt.title('Histogram')\n",
    "\n",
    "    # Boxplot\n",
    "    plt.subplot(1, 2, 2)\n",
    "    sns.boxplot(y=df[variable])\n",
    "    plt.title('Boxplot')\n",
    "\n",
    "    plt.show()"
   ]
  },
  {
   "cell_type": "code",
   "execution_count": 24,
   "metadata": {},
   "outputs": [
    {
     "data": {
      "image/png": "[encoded data removed]",
      "text/plain": [
       "<Figure size 1152x288 with 2 Axes>"
      ]
     },
     "metadata": {
      "needs_background": "light"
     },
     "output_type": "display_data"
    }
   ],
   "source": [
    "diagnostic_plots(X_train, 'open')"
   ]
  },
  {
   "cell_type": "code",
   "execution_count": 25,
   "metadata": {},
   "outputs": [
    {
     "data": {
      "image/png": "[encoded data removed]",
      "text/plain": [
       "<Figure size 1152x288 with 2 Axes>"
      ]
     },
     "metadata": {
      "needs_background": "light"
     },
     "output_type": "display_data"
    }
   ],
   "source": [
    "diagnostic_plots(X_train, 'low')"
   ]
  },
  {
   "cell_type": "code",
   "execution_count": 26,
   "metadata": {},
   "outputs": [
    {
     "data": {
      "image/png": "[encoded data removed]",
      "text/plain": [
       "<Figure size 1152x288 with 2 Axes>"
      ]
     },
     "metadata": {
      "needs_background": "light"
     },
     "output_type": "display_data"
    }
   ],
   "source": [
    "diagnostic_plots(X_train, 'high')"
   ]
  },
  {
   "cell_type": "code",
   "execution_count": 27,
   "metadata": {},
   "outputs": [
    {
     "data": {
      "image/png": "[encoded data removed]",
      "text/plain": [
       "<Figure size 1152x288 with 2 Axes>"
      ]
     },
     "metadata": {
      "needs_background": "light"
     },
     "output_type": "display_data"
    }
   ],
   "source": [
    "diagnostic_plots(X_train, 'volume')"
   ]
  },
  {
   "cell_type": "code",
   "execution_count": 28,
   "metadata": {},
   "outputs": [],
   "source": [
    "# Function to find upper and lower boundaries for skewed distributed variables\n",
    "# Let's calculate the boundaries outside which sit the outliers for skewed distributions\n",
    "# Distance passed as an argument, gives us the option to estimate 1.5 times or 3 times the IQR to calculate the boundaries.\n",
    "\n",
    "def find_skewed_boundaries(df, variable):\n",
    "    IQR = df[variable].quantile(0.75) - df[variable].quantile(0.25)\n",
    "\n",
    "    lower_boundary = df[variable].quantile(0.25) - (IQR * 1.5)\n",
    "    upper_boundary = df[variable].quantile(0.75) + (IQR * 1.5)\n",
    "\n",
    "    return upper_boundary, lower_boundary"
   ]
  },
  {
   "cell_type": "code",
   "execution_count": 30,
   "metadata": {},
   "outputs": [
    {
     "name": "stdout",
     "output_type": "stream",
     "text": [
      "upper bound = 697.6025017500001\n",
      "lower bound = -111.63749025000004\n"
     ]
    }
   ],
   "source": [
    "# boundary for open prices\n",
    "upper_open, lower_open = find_skewed_boundaries(X_train, 'open')\n",
    "print(f'upper bound = {upper_open}')\n",
    "print(f'lower bound = {lower_open}')"
   ]
  },
  {
   "cell_type": "code",
   "execution_count": 49,
   "metadata": {},
   "outputs": [
    {
     "name": "stdout",
     "output_type": "stream",
     "text": [
      "upper bound = 686.8750015\n",
      "lower bound = -108.58500449999997\n"
     ]
    }
   ],
   "source": [
    "# boundary for low prices\n",
    "upper_low, lower_low = find_skewed_boundaries(X_train, 'low')\n",
    "print(f'upper bound = {upper_low}')\n",
    "print(f'lower bound = {lower_low}')"
   ]
  },
  {
   "cell_type": "code",
   "execution_count": 50,
   "metadata": {},
   "outputs": [
    {
     "name": "stdout",
     "output_type": "stream",
     "text": [
      "upper bound = 704.734976875\n",
      "lower bound = -111.14498412499998\n"
     ]
    }
   ],
   "source": [
    "# boundary for high prices\n",
    "upper_high, lower_high = find_skewed_boundaries(X_train, 'high')\n",
    "print(f'upper bound = {upper_high}')\n",
    "print(f'lower bound = {lower_high}')"
   ]
  },
  {
   "cell_type": "code",
   "execution_count": 33,
   "metadata": {},
   "outputs": [
    {
     "name": "stdout",
     "output_type": "stream",
     "text": [
      "upper bound = 9480737.5\n",
      "lower bound = -1286962.5\n"
     ]
    }
   ],
   "source": [
    "# boundary for volume\n",
    "upper_volume, lower_volume = find_skewed_boundaries(X_train, 'volume')\n",
    "print(f'upper bound = {upper_volume}')\n",
    "print(f'lower bound = {lower_volume}')"
   ]
  },
  {
   "cell_type": "code",
   "execution_count": 38,
   "metadata": {},
   "outputs": [
    {
     "data": {
      "text/plain": [
       "84"
      ]
     },
     "execution_count": 38,
     "metadata": {},
     "output_type": "execute_result"
    }
   ],
   "source": [
    "# Count volume above upper bound\n",
    "upper_bound_count = X_train[X_train['volume'] > upper_volume]\n",
    "upper_bound_count.shape[0]"
   ]
  },
  {
   "cell_type": "markdown",
   "metadata": {},
   "source": [
    "there is 84 outliers, from the value features"
   ]
  },
  {
   "cell_type": "code",
   "execution_count": 102,
   "metadata": {},
   "outputs": [],
   "source": [
    "# Drop value beyond the upper bound of volume\n",
    "X_train_droped_1 = X_train[X_train['volume'] <= upper_volume]"
   ]
  },
  {
   "cell_type": "code",
   "execution_count": 103,
   "metadata": {},
   "outputs": [
    {
     "data": {
      "text/plain": [
       "1422"
      ]
     },
     "execution_count": 103,
     "metadata": {},
     "output_type": "execute_result"
    }
   ],
   "source": [
    "X_train.shape[0]"
   ]
  },
  {
   "cell_type": "code",
   "execution_count": 104,
   "metadata": {},
   "outputs": [
    {
     "data": {
      "text/plain": [
       "1338"
      ]
     },
     "execution_count": 104,
     "metadata": {},
     "output_type": "execute_result"
    }
   ],
   "source": [
    "X_train_droped_1.shape[0]"
   ]
  },
  {
   "cell_type": "code",
   "execution_count": 105,
   "metadata": {},
   "outputs": [
    {
     "data": {
      "text/plain": [
       "1338"
      ]
     },
     "execution_count": 105,
     "metadata": {},
     "output_type": "execute_result"
    }
   ],
   "source": [
    "# index to removed\n",
    "X_train_index = X_train[X_train['volume'] > upper_volume].index\n",
    "\n",
    "# clean targets from removed outliers \n",
    "y_train_droped_1 = y_train.drop(index=X_train_index)\n",
    "y_train_droped_1.shape[0]"
   ]
  },
  {
   "cell_type": "markdown",
   "metadata": {},
   "source": [
    "#### 2.1.4.3 Handling Null values"
   ]
  },
  {
   "cell_type": "code",
   "execution_count": 106,
   "metadata": {},
   "outputs": [
    {
     "data": {
      "text/plain": [
       "date      0\n",
       "symbol    0\n",
       "open      0\n",
       "low       0\n",
       "high      0\n",
       "volume    0\n",
       "dtype: int64"
      ]
     },
     "execution_count": 106,
     "metadata": {},
     "output_type": "execute_result"
    }
   ],
   "source": [
    "# Check null values\n",
    "X_train_droped_1.isnull().sum()"
   ]
  },
  {
   "cell_type": "markdown",
   "metadata": {},
   "source": [
    "since there is no null value, we can go to the next process"
   ]
  },
  {
   "cell_type": "markdown",
   "metadata": {},
   "source": [
    "#### 2.1.4.4 Feature selection"
   ]
  },
  {
   "cell_type": "code",
   "execution_count": 107,
   "metadata": {},
   "outputs": [],
   "source": [
    "# find corelation between features\n",
    "X_train_cor = X_train_droped_1.corr() "
   ]
  },
  {
   "cell_type": "code",
   "execution_count": 108,
   "metadata": {},
   "outputs": [
    {
     "data": {
      "text/plain": [
       "<AxesSubplot:>"
      ]
     },
     "execution_count": 108,
     "metadata": {},
     "output_type": "execute_result"
    },
    {
     "data": {
      "image/png": "[encoded data removed]",
      "text/plain": [
       "<Figure size 1080x1080 with 2 Axes>"
      ]
     },
     "metadata": {
      "needs_background": "light"
     },
     "output_type": "display_data"
    }
   ],
   "source": [
    "plt.figure(figsize=(15,15))\n",
    "sns.heatmap(X_train_cor, annot=True)"
   ]
  },
  {
   "cell_type": "markdown",
   "metadata": {},
   "source": [
    "high, low, and open prices, are highly correlated with each other. we need to drop 1 of these. we choose open to droped"
   ]
  },
  {
   "cell_type": "code",
   "execution_count": 127,
   "metadata": {},
   "outputs": [],
   "source": [
    "X_train_droped_2 = X_train_droped_1.drop(['open'], axis=1)"
   ]
  },
  {
   "cell_type": "code",
   "execution_count": 131,
   "metadata": {},
   "outputs": [
    {
     "data": {
      "text/html": [
       "<div>\n",
       "<style scoped>\n",
       "    .dataframe tbody tr th:only-of-type {\n",
       "        vertical-align: middle;\n",
       "    }\n",
       "\n",
       "    .dataframe tbody tr th {\n",
       "        vertical-align: top;\n",
       "    }\n",
       "\n",
       "    .dataframe thead th {\n",
       "        text-align: right;\n",
       "    }\n",
       "</style>\n",
       "<table border=\"1\" class=\"dataframe\">\n",
       "  <thead>\n",
       "    <tr style=\"text-align: right;\">\n",
       "      <th></th>\n",
       "      <th>low</th>\n",
       "      <th>high</th>\n",
       "      <th>volume</th>\n",
       "    </tr>\n",
       "  </thead>\n",
       "  <tbody>\n",
       "    <tr>\n",
       "      <th>218532</th>\n",
       "      <td>214.330002</td>\n",
       "      <td>218.229996</td>\n",
       "      <td>4065800.0</td>\n",
       "    </tr>\n",
       "    <tr>\n",
       "      <th>775824</th>\n",
       "      <td>711.099976</td>\n",
       "      <td>716.599976</td>\n",
       "      <td>2246400.0</td>\n",
       "    </tr>\n",
       "    <tr>\n",
       "      <th>569108</th>\n",
       "      <td>315.549988</td>\n",
       "      <td>322.170013</td>\n",
       "      <td>3089100.0</td>\n",
       "    </tr>\n",
       "    <tr>\n",
       "      <th>309712</th>\n",
       "      <td>232.619995</td>\n",
       "      <td>236.720001</td>\n",
       "      <td>2751000.0</td>\n",
       "    </tr>\n",
       "    <tr>\n",
       "      <th>540688</th>\n",
       "      <td>322.649994</td>\n",
       "      <td>329.980011</td>\n",
       "      <td>2665000.0</td>\n",
       "    </tr>\n",
       "    <tr>\n",
       "      <th>...</th>\n",
       "      <td>...</td>\n",
       "      <td>...</td>\n",
       "      <td>...</td>\n",
       "    </tr>\n",
       "    <tr>\n",
       "      <th>612324</th>\n",
       "      <td>371.010010</td>\n",
       "      <td>375.989990</td>\n",
       "      <td>3892400.0</td>\n",
       "    </tr>\n",
       "    <tr>\n",
       "      <th>321932</th>\n",
       "      <td>258.000000</td>\n",
       "      <td>260.869995</td>\n",
       "      <td>2913600.0</td>\n",
       "    </tr>\n",
       "    <tr>\n",
       "      <th>283392</th>\n",
       "      <td>212.699997</td>\n",
       "      <td>217.660004</td>\n",
       "      <td>3141100.0</td>\n",
       "    </tr>\n",
       "    <tr>\n",
       "      <th>192682</th>\n",
       "      <td>179.720001</td>\n",
       "      <td>191.339996</td>\n",
       "      <td>8275200.0</td>\n",
       "    </tr>\n",
       "    <tr>\n",
       "      <th>517658</th>\n",
       "      <td>304.309998</td>\n",
       "      <td>313.290009</td>\n",
       "      <td>3995100.0</td>\n",
       "    </tr>\n",
       "  </tbody>\n",
       "</table>\n",
       "<p>1338 rows × 3 columns</p>\n",
       "</div>"
      ],
      "text/plain": [
       "               low        high     volume\n",
       "218532  214.330002  218.229996  4065800.0\n",
       "775824  711.099976  716.599976  2246400.0\n",
       "569108  315.549988  322.170013  3089100.0\n",
       "309712  232.619995  236.720001  2751000.0\n",
       "540688  322.649994  329.980011  2665000.0\n",
       "...            ...         ...        ...\n",
       "612324  371.010010  375.989990  3892400.0\n",
       "321932  258.000000  260.869995  2913600.0\n",
       "283392  212.699997  217.660004  3141100.0\n",
       "192682  179.720001  191.339996  8275200.0\n",
       "517658  304.309998  313.290009  3995100.0\n",
       "\n",
       "[1338 rows x 3 columns]"
      ]
     },
     "execution_count": 131,
     "metadata": {},
     "output_type": "execute_result"
    }
   ],
   "source": [
    "# drop symbol\n",
    "X_train_droped_2.drop(['symbol', 'date'], axis=1, inplace=True)\n",
    "X_train_droped_2\n"
   ]
  },
  {
   "cell_type": "markdown",
   "metadata": {},
   "source": [
    "now, the data is not corelated anymore"
   ]
  },
  {
   "cell_type": "markdown",
   "metadata": {},
   "source": [
    "#### 2.1.4.5 split numerical and categorical"
   ]
  },
  {
   "cell_type": "code",
   "execution_count": 132,
   "metadata": {},
   "outputs": [
    {
     "name": "stdout",
     "output_type": "stream",
     "text": [
      "Numerical Columns   :  ['low', 'high', 'volume']\n",
      "Categorical Columns :  []\n"
     ]
    }
   ],
   "source": [
    "# Get Numerical Columns and Categorical Columns\n",
    "\n",
    "num_columns = X_train_droped_2.select_dtypes(include=np.number).columns.tolist()\n",
    "cat_columns = X_train_droped_2.select_dtypes(include=['object']).columns.tolist()\n",
    "\n",
    "print('Numerical Columns   : ', num_columns)\n",
    "print('Categorical Columns : ', cat_columns)"
   ]
  },
  {
   "cell_type": "code",
   "execution_count": 133,
   "metadata": {},
   "outputs": [],
   "source": [
    "# Split Train-Set and Test-Set based on Column Types\n",
    "\n",
    "X_train_num = X_train_droped_2[num_columns]\n",
    "X_train_cat = X_train_droped_2[cat_columns]\n",
    "\n",
    "X_test_num = X_test[num_columns]\n",
    "X_test_cat = X_test[cat_columns]"
   ]
  },
  {
   "cell_type": "code",
   "execution_count": 134,
   "metadata": {},
   "outputs": [],
   "source": [
    "X_train_cat.reset_index(drop=True, inplace=True)\n",
    "X_test_cat.reset_index(drop=True, inplace=True)"
   ]
  },
  {
   "cell_type": "markdown",
   "metadata": {},
   "source": [
    "#### 2.1.4.6 Scaling"
   ]
  },
  {
   "cell_type": "code",
   "execution_count": 135,
   "metadata": {},
   "outputs": [
    {
     "data": {
      "text/plain": [
       "array([[0.14728704, 0.14509846, 0.3636428 ],\n",
       "       [0.8270954 , 0.8238362 , 0.1489314 ],\n",
       "       [0.28580224, 0.28665596, 0.24838028],\n",
       "       ...,\n",
       "       [0.14505645, 0.14432218, 0.25451692],\n",
       "       [0.09992474, 0.10847655, 0.86040337],\n",
       "       [0.2704208 , 0.27456215, 0.35529934]])"
      ]
     },
     "execution_count": 135,
     "metadata": {},
     "output_type": "execute_result"
    }
   ],
   "source": [
    "# Define scaler\n",
    "scaler = MinMaxScaler()\n",
    "\n",
    "scaler.fit(X_train_num)\n",
    "\n",
    "X_train_num_scaled = scaler.transform(X_train_num)\n",
    "X_test_num_scaled = scaler.transform(X_test_num)\n",
    "X_train_num_scaled"
   ]
  },
  {
   "cell_type": "code",
   "execution_count": 136,
   "metadata": {},
   "outputs": [],
   "source": [
    "# Create dataframe for X numeric features\n",
    "X_train_num_1 = pd.DataFrame(X_train_num_scaled, columns =[num_columns])\n",
    "X_test_num_1 = pd.DataFrame(X_test_num_scaled, columns =[num_columns])\n"
   ]
  },
  {
   "cell_type": "code",
   "execution_count": 137,
   "metadata": {},
   "outputs": [
    {
     "data": {
      "text/html": [
       "<div>\n",
       "<style scoped>\n",
       "    .dataframe tbody tr th:only-of-type {\n",
       "        vertical-align: middle;\n",
       "    }\n",
       "\n",
       "    .dataframe tbody tr th {\n",
       "        vertical-align: top;\n",
       "    }\n",
       "\n",
       "    .dataframe thead tr th {\n",
       "        text-align: left;\n",
       "    }\n",
       "</style>\n",
       "<table border=\"1\" class=\"dataframe\">\n",
       "  <thead>\n",
       "    <tr>\n",
       "      <th></th>\n",
       "      <th>low</th>\n",
       "      <th>high</th>\n",
       "      <th>volume</th>\n",
       "    </tr>\n",
       "  </thead>\n",
       "  <tbody>\n",
       "    <tr>\n",
       "      <th>0</th>\n",
       "      <td>0.147287</td>\n",
       "      <td>0.145098</td>\n",
       "      <td>0.363643</td>\n",
       "    </tr>\n",
       "    <tr>\n",
       "      <th>1</th>\n",
       "      <td>0.827095</td>\n",
       "      <td>0.823836</td>\n",
       "      <td>0.148931</td>\n",
       "    </tr>\n",
       "    <tr>\n",
       "      <th>2</th>\n",
       "      <td>0.285802</td>\n",
       "      <td>0.286656</td>\n",
       "      <td>0.248380</td>\n",
       "    </tr>\n",
       "    <tr>\n",
       "      <th>3</th>\n",
       "      <td>0.172316</td>\n",
       "      <td>0.170280</td>\n",
       "      <td>0.208480</td>\n",
       "    </tr>\n",
       "    <tr>\n",
       "      <th>4</th>\n",
       "      <td>0.295518</td>\n",
       "      <td>0.297293</td>\n",
       "      <td>0.198331</td>\n",
       "    </tr>\n",
       "    <tr>\n",
       "      <th>...</th>\n",
       "      <td>...</td>\n",
       "      <td>...</td>\n",
       "      <td>...</td>\n",
       "    </tr>\n",
       "    <tr>\n",
       "      <th>1333</th>\n",
       "      <td>0.361697</td>\n",
       "      <td>0.359954</td>\n",
       "      <td>0.343179</td>\n",
       "    </tr>\n",
       "    <tr>\n",
       "      <th>1334</th>\n",
       "      <td>0.207048</td>\n",
       "      <td>0.203171</td>\n",
       "      <td>0.227669</td>\n",
       "    </tr>\n",
       "    <tr>\n",
       "      <th>1335</th>\n",
       "      <td>0.145056</td>\n",
       "      <td>0.144322</td>\n",
       "      <td>0.254517</td>\n",
       "    </tr>\n",
       "    <tr>\n",
       "      <th>1336</th>\n",
       "      <td>0.099925</td>\n",
       "      <td>0.108477</td>\n",
       "      <td>0.860403</td>\n",
       "    </tr>\n",
       "    <tr>\n",
       "      <th>1337</th>\n",
       "      <td>0.270421</td>\n",
       "      <td>0.274562</td>\n",
       "      <td>0.355299</td>\n",
       "    </tr>\n",
       "  </tbody>\n",
       "</table>\n",
       "<p>1338 rows × 3 columns</p>\n",
       "</div>"
      ],
      "text/plain": [
       "           low      high    volume\n",
       "0     0.147287  0.145098  0.363643\n",
       "1     0.827095  0.823836  0.148931\n",
       "2     0.285802  0.286656  0.248380\n",
       "3     0.172316  0.170280  0.208480\n",
       "4     0.295518  0.297293  0.198331\n",
       "...        ...       ...       ...\n",
       "1333  0.361697  0.359954  0.343179\n",
       "1334  0.207048  0.203171  0.227669\n",
       "1335  0.145056  0.144322  0.254517\n",
       "1336  0.099925  0.108477  0.860403\n",
       "1337  0.270421  0.274562  0.355299\n",
       "\n",
       "[1338 rows x 3 columns]"
      ]
     },
     "execution_count": 137,
     "metadata": {},
     "output_type": "execute_result"
    }
   ],
   "source": [
    "X_train_num_1"
   ]
  },
  {
   "cell_type": "code",
   "execution_count": 138,
   "metadata": {},
   "outputs": [],
   "source": [
    "# Join categorical and numerical features together\n",
    "X_train_cleaned = X_train_num_1.join(X_train_cat)\n",
    "X_test_cleaned = X_test_num_1.join(X_test_cat)"
   ]
  },
  {
   "cell_type": "code",
   "execution_count": 139,
   "metadata": {},
   "outputs": [],
   "source": [
    "#duplicate y_train\n",
    "y_train_2 = y_train_droped_1.copy()\n",
    "\n",
    "# reset index on y_train_2\n",
    "y_train_2.reset_index(drop=True, inplace=True)"
   ]
  },
  {
   "cell_type": "code",
   "execution_count": 140,
   "metadata": {},
   "outputs": [
    {
     "data": {
      "text/html": [
       "<div>\n",
       "<style scoped>\n",
       "    .dataframe tbody tr th:only-of-type {\n",
       "        vertical-align: middle;\n",
       "    }\n",
       "\n",
       "    .dataframe tbody tr th {\n",
       "        vertical-align: top;\n",
       "    }\n",
       "\n",
       "    .dataframe thead th {\n",
       "        text-align: right;\n",
       "    }\n",
       "</style>\n",
       "<table border=\"1\" class=\"dataframe\">\n",
       "  <thead>\n",
       "    <tr style=\"text-align: right;\">\n",
       "      <th></th>\n",
       "      <th>close</th>\n",
       "    </tr>\n",
       "  </thead>\n",
       "  <tbody>\n",
       "    <tr>\n",
       "      <th>0</th>\n",
       "      <td>216.479996</td>\n",
       "    </tr>\n",
       "    <tr>\n",
       "      <th>1</th>\n",
       "      <td>712.239990</td>\n",
       "    </tr>\n",
       "    <tr>\n",
       "      <th>2</th>\n",
       "      <td>317.459991</td>\n",
       "    </tr>\n",
       "    <tr>\n",
       "      <th>3</th>\n",
       "      <td>233.190002</td>\n",
       "    </tr>\n",
       "    <tr>\n",
       "      <th>4</th>\n",
       "      <td>327.920013</td>\n",
       "    </tr>\n",
       "    <tr>\n",
       "      <th>...</th>\n",
       "      <td>...</td>\n",
       "    </tr>\n",
       "    <tr>\n",
       "      <th>1333</th>\n",
       "      <td>374.279999</td>\n",
       "    </tr>\n",
       "    <tr>\n",
       "      <th>1334</th>\n",
       "      <td>260.809998</td>\n",
       "    </tr>\n",
       "    <tr>\n",
       "      <th>1335</th>\n",
       "      <td>215.240005</td>\n",
       "    </tr>\n",
       "    <tr>\n",
       "      <th>1336</th>\n",
       "      <td>182.520004</td>\n",
       "    </tr>\n",
       "    <tr>\n",
       "      <th>1337</th>\n",
       "      <td>308.010010</td>\n",
       "    </tr>\n",
       "  </tbody>\n",
       "</table>\n",
       "<p>1338 rows × 1 columns</p>\n",
       "</div>"
      ],
      "text/plain": [
       "           close\n",
       "0     216.479996\n",
       "1     712.239990\n",
       "2     317.459991\n",
       "3     233.190002\n",
       "4     327.920013\n",
       "...          ...\n",
       "1333  374.279999\n",
       "1334  260.809998\n",
       "1335  215.240005\n",
       "1336  182.520004\n",
       "1337  308.010010\n",
       "\n",
       "[1338 rows x 1 columns]"
      ]
     },
     "execution_count": 140,
     "metadata": {},
     "output_type": "execute_result"
    }
   ],
   "source": [
    "y_train_cleaned = pd.DataFrame(y_train_2)\n",
    "y_train_cleaned"
   ]
  },
  {
   "cell_type": "markdown",
   "metadata": {},
   "source": [
    "### 2.1.5 Model definition"
   ]
  },
  {
   "cell_type": "code",
   "execution_count": 141,
   "metadata": {},
   "outputs": [],
   "source": [
    "# Training using Linear regression\n",
    "\n",
    "model_lin_reg = LinearRegression(fit_intercept=True)"
   ]
  },
  {
   "cell_type": "markdown",
   "metadata": {},
   "source": [
    "### 2.1.6 Model Training"
   ]
  },
  {
   "cell_type": "code",
   "execution_count": 142,
   "metadata": {},
   "outputs": [
    {
     "name": "stderr",
     "output_type": "stream",
     "text": [
      "/home/sam/anaconda3/lib/python3.9/site-packages/sklearn/utils/validation.py:1688: FutureWarning: Feature names only support names that are all strings. Got feature names with dtypes: ['tuple']. An error will be raised in 1.2.\n",
      "  warnings.warn(\n"
     ]
    },
    {
     "data": {
      "text/plain": [
       "LinearRegression()"
      ]
     },
     "execution_count": 142,
     "metadata": {},
     "output_type": "execute_result"
    }
   ],
   "source": [
    "# Train the model\n",
    "\n",
    "model_lin_reg.fit(X_train_cleaned, y_train_cleaned)"
   ]
  },
  {
   "cell_type": "markdown",
   "metadata": {},
   "source": [
    "### 2.1.7 Model Evaluation"
   ]
  },
  {
   "cell_type": "code",
   "execution_count": 143,
   "metadata": {},
   "outputs": [
    {
     "name": "stderr",
     "output_type": "stream",
     "text": [
      "/home/sam/anaconda3/lib/python3.9/site-packages/sklearn/utils/validation.py:1688: FutureWarning: Feature names only support names that are all strings. Got feature names with dtypes: ['tuple']. An error will be raised in 1.2.\n",
      "  warnings.warn(\n",
      "/home/sam/anaconda3/lib/python3.9/site-packages/sklearn/utils/validation.py:1688: FutureWarning: Feature names only support names that are all strings. Got feature names with dtypes: ['tuple']. An error will be raised in 1.2.\n",
      "  warnings.warn(\n"
     ]
    },
    {
     "data": {
      "text/plain": [
       "array([[216.42084397],\n",
       "       [714.22367415],\n",
       "       [319.03699771],\n",
       "       ...,\n",
       "       [215.31645734],\n",
       "       [185.60482412],\n",
       "       [308.95731051]])"
      ]
     },
     "execution_count": 143,
     "metadata": {},
     "output_type": "execute_result"
    }
   ],
   "source": [
    "y_pred_train = model_lin_reg.predict(X_train_cleaned)\n",
    "y_pred_test = model_lin_reg.predict(X_test_cleaned)\n",
    "\n",
    "y_pred_train"
   ]
  },
  {
   "cell_type": "code",
   "execution_count": 145,
   "metadata": {},
   "outputs": [
    {
     "name": "stdout",
     "output_type": "stream",
     "text": [
      "train error:  2.0423119043249183\n",
      "test error:  1.9365935360875628\n"
     ]
    }
   ],
   "source": [
    "# Model Evaluation using MAE\n",
    "\n",
    "print('train error: ', mean_absolute_error(y_train_cleaned, y_pred_train))\n",
    "print('test error: ', mean_absolute_error(y_test, y_pred_test))"
   ]
  },
  {
   "cell_type": "code",
   "execution_count": 147,
   "metadata": {},
   "outputs": [
    {
     "name": "stdout",
     "output_type": "stream",
     "text": [
      "train error:  0.9997821109563944\n",
      "test error:  0.999793491633141\n"
     ]
    }
   ],
   "source": [
    "# Model Evaluation using r^2\n",
    "\n",
    "print('train error: ', r2_score(y_train_cleaned, y_pred_train))\n",
    "print('test error: ', r2_score(y_test, y_pred_test))"
   ]
  },
  {
   "cell_type": "markdown",
   "metadata": {},
   "source": [
    "mother of god, im not sure, we effe'd up, or this model is really good.. the r2squre is 99.97 %"
   ]
  },
  {
   "cell_type": "markdown",
   "metadata": {},
   "source": [
    "### 2.1.8 Model saving"
   ]
  },
  {
   "cell_type": "code",
   "execution_count": 149,
   "metadata": {},
   "outputs": [],
   "source": [
    "with open('model_lin_reg.pkl', 'wb') as file_1:\n",
    "  joblib.dump(model_lin_reg, file_1)\n",
    "\n",
    "with open('model_scaler.pkl', 'wb') as file_2:\n",
    "  joblib.dump(scaler, file_2)\n",
    "\n",
    "with open('list_num.txt', 'w') as file_4:\n",
    "  json.dump(num_columns, file_4)\n",
    "\n",
    "with open('list_cat_columns.txt', 'w') as file_5:\n",
    "  json.dump(cat_columns, file_5)"
   ]
  },
  {
   "cell_type": "markdown",
   "metadata": {},
   "source": [
    "### 2.1.9 Model inference"
   ]
  },
  {
   "cell_type": "code",
   "execution_count": 150,
   "metadata": {},
   "outputs": [],
   "source": [
    "# load All files\n",
    "\n",
    "with open('model_lin_reg.pkl', 'rb') as file_1:\n",
    "  model_lin_reg = joblib.load(file_1)\n",
    "\n",
    "with open('model_scaler.pkl', 'rb') as file_2:\n",
    "  model_scaler = joblib.load(file_2)\n",
    "\n",
    "with open('list_num.txt', 'r') as file_4:\n",
    "  list_num_cols = json.load(file_4)\n",
    "\n",
    "with open('list_cat_columns.txt', 'r') as file_5:\n",
    "  list_cat_cols = json.load(file_5)"
   ]
  },
  {
   "cell_type": "markdown",
   "metadata": {},
   "source": [
    "#### 2.1.9.1 inference"
   ]
  },
  {
   "cell_type": "code",
   "execution_count": 151,
   "metadata": {},
   "outputs": [
    {
     "data": {
      "text/html": [
       "<div>\n",
       "<style scoped>\n",
       "    .dataframe tbody tr th:only-of-type {\n",
       "        vertical-align: middle;\n",
       "    }\n",
       "\n",
       "    .dataframe tbody tr th {\n",
       "        vertical-align: top;\n",
       "    }\n",
       "\n",
       "    .dataframe thead th {\n",
       "        text-align: right;\n",
       "    }\n",
       "</style>\n",
       "<table border=\"1\" class=\"dataframe\">\n",
       "  <thead>\n",
       "    <tr style=\"text-align: right;\">\n",
       "      <th></th>\n",
       "      <th>date</th>\n",
       "      <th>symbol</th>\n",
       "      <th>open</th>\n",
       "      <th>close</th>\n",
       "      <th>low</th>\n",
       "      <th>high</th>\n",
       "      <th>volume</th>\n",
       "    </tr>\n",
       "  </thead>\n",
       "  <tbody>\n",
       "    <tr>\n",
       "      <th>0</th>\n",
       "      <td>2015-11-17</td>\n",
       "      <td>AMZN</td>\n",
       "      <td>650.650024</td>\n",
       "      <td>643.299988</td>\n",
       "      <td>641.000000</td>\n",
       "      <td>653.250000</td>\n",
       "      <td>4320200.0</td>\n",
       "    </tr>\n",
       "    <tr>\n",
       "      <th>1</th>\n",
       "      <td>2016-06-14</td>\n",
       "      <td>AMZN</td>\n",
       "      <td>712.330017</td>\n",
       "      <td>719.299988</td>\n",
       "      <td>712.270020</td>\n",
       "      <td>720.809998</td>\n",
       "      <td>2506900.0</td>\n",
       "    </tr>\n",
       "    <tr>\n",
       "      <th>2</th>\n",
       "      <td>2016-01-27</td>\n",
       "      <td>AMZN</td>\n",
       "      <td>601.989990</td>\n",
       "      <td>583.349976</td>\n",
       "      <td>578.780029</td>\n",
       "      <td>603.390015</td>\n",
       "      <td>5152900.0</td>\n",
       "    </tr>\n",
       "    <tr>\n",
       "      <th>3</th>\n",
       "      <td>2010-11-05</td>\n",
       "      <td>AMZN</td>\n",
       "      <td>169.350006</td>\n",
       "      <td>170.770004</td>\n",
       "      <td>168.589996</td>\n",
       "      <td>171.649994</td>\n",
       "      <td>5212200.0</td>\n",
       "    </tr>\n",
       "    <tr>\n",
       "      <th>4</th>\n",
       "      <td>2010-08-11</td>\n",
       "      <td>AMZN</td>\n",
       "      <td>128.100006</td>\n",
       "      <td>125.889999</td>\n",
       "      <td>125.199997</td>\n",
       "      <td>128.119995</td>\n",
       "      <td>5541700.0</td>\n",
       "    </tr>\n",
       "    <tr>\n",
       "      <th>...</th>\n",
       "      <td>...</td>\n",
       "      <td>...</td>\n",
       "      <td>...</td>\n",
       "      <td>...</td>\n",
       "      <td>...</td>\n",
       "      <td>...</td>\n",
       "      <td>...</td>\n",
       "    </tr>\n",
       "    <tr>\n",
       "      <th>83</th>\n",
       "      <td>2010-05-21</td>\n",
       "      <td>AMZN</td>\n",
       "      <td>117.900002</td>\n",
       "      <td>122.720001</td>\n",
       "      <td>117.519997</td>\n",
       "      <td>124.970001</td>\n",
       "      <td>7966900.0</td>\n",
       "    </tr>\n",
       "    <tr>\n",
       "      <th>84</th>\n",
       "      <td>2014-06-16</td>\n",
       "      <td>AMZN</td>\n",
       "      <td>324.859985</td>\n",
       "      <td>327.619995</td>\n",
       "      <td>323.519989</td>\n",
       "      <td>328.690002</td>\n",
       "      <td>2449800.0</td>\n",
       "    </tr>\n",
       "    <tr>\n",
       "      <th>85</th>\n",
       "      <td>2014-01-02</td>\n",
       "      <td>AMZN</td>\n",
       "      <td>398.799988</td>\n",
       "      <td>397.970001</td>\n",
       "      <td>394.019989</td>\n",
       "      <td>399.359985</td>\n",
       "      <td>2137800.0</td>\n",
       "    </tr>\n",
       "    <tr>\n",
       "      <th>86</th>\n",
       "      <td>2015-09-30</td>\n",
       "      <td>AMZN</td>\n",
       "      <td>505.440002</td>\n",
       "      <td>511.890015</td>\n",
       "      <td>501.670013</td>\n",
       "      <td>512.799988</td>\n",
       "      <td>4004700.0</td>\n",
       "    </tr>\n",
       "    <tr>\n",
       "      <th>87</th>\n",
       "      <td>2014-10-23</td>\n",
       "      <td>AMZN</td>\n",
       "      <td>313.399994</td>\n",
       "      <td>313.179993</td>\n",
       "      <td>311.399994</td>\n",
       "      <td>316.799988</td>\n",
       "      <td>9038200.0</td>\n",
       "    </tr>\n",
       "  </tbody>\n",
       "</table>\n",
       "<p>88 rows × 7 columns</p>\n",
       "</div>"
      ],
      "text/plain": [
       "          date symbol        open       close         low        high  \\\n",
       "0   2015-11-17   AMZN  650.650024  643.299988  641.000000  653.250000   \n",
       "1   2016-06-14   AMZN  712.330017  719.299988  712.270020  720.809998   \n",
       "2   2016-01-27   AMZN  601.989990  583.349976  578.780029  603.390015   \n",
       "3   2010-11-05   AMZN  169.350006  170.770004  168.589996  171.649994   \n",
       "4   2010-08-11   AMZN  128.100006  125.889999  125.199997  128.119995   \n",
       "..         ...    ...         ...         ...         ...         ...   \n",
       "83  2010-05-21   AMZN  117.900002  122.720001  117.519997  124.970001   \n",
       "84  2014-06-16   AMZN  324.859985  327.619995  323.519989  328.690002   \n",
       "85  2014-01-02   AMZN  398.799988  397.970001  394.019989  399.359985   \n",
       "86  2015-09-30   AMZN  505.440002  511.890015  501.670013  512.799988   \n",
       "87  2014-10-23   AMZN  313.399994  313.179993  311.399994  316.799988   \n",
       "\n",
       "       volume  \n",
       "0   4320200.0  \n",
       "1   2506900.0  \n",
       "2   5152900.0  \n",
       "3   5212200.0  \n",
       "4   5541700.0  \n",
       "..        ...  \n",
       "83  7966900.0  \n",
       "84  2449800.0  \n",
       "85  2137800.0  \n",
       "86  4004700.0  \n",
       "87  9038200.0  \n",
       "\n",
       "[88 rows x 7 columns]"
      ]
     },
     "execution_count": 151,
     "metadata": {},
     "output_type": "execute_result"
    }
   ],
   "source": [
    "# display inference-set\n",
    "data_inf"
   ]
  },
  {
   "cell_type": "code",
   "execution_count": 152,
   "metadata": {},
   "outputs": [
    {
     "data": {
      "text/html": [
       "<div>\n",
       "<style scoped>\n",
       "    .dataframe tbody tr th:only-of-type {\n",
       "        vertical-align: middle;\n",
       "    }\n",
       "\n",
       "    .dataframe tbody tr th {\n",
       "        vertical-align: top;\n",
       "    }\n",
       "\n",
       "    .dataframe thead th {\n",
       "        text-align: right;\n",
       "    }\n",
       "</style>\n",
       "<table border=\"1\" class=\"dataframe\">\n",
       "  <thead>\n",
       "    <tr style=\"text-align: right;\">\n",
       "      <th></th>\n",
       "      <th>low</th>\n",
       "      <th>high</th>\n",
       "      <th>volume</th>\n",
       "    </tr>\n",
       "  </thead>\n",
       "  <tbody>\n",
       "    <tr>\n",
       "      <th>0</th>\n",
       "      <td>641.000000</td>\n",
       "      <td>653.250000</td>\n",
       "      <td>4320200.0</td>\n",
       "    </tr>\n",
       "    <tr>\n",
       "      <th>1</th>\n",
       "      <td>712.270020</td>\n",
       "      <td>720.809998</td>\n",
       "      <td>2506900.0</td>\n",
       "    </tr>\n",
       "    <tr>\n",
       "      <th>2</th>\n",
       "      <td>578.780029</td>\n",
       "      <td>603.390015</td>\n",
       "      <td>5152900.0</td>\n",
       "    </tr>\n",
       "    <tr>\n",
       "      <th>3</th>\n",
       "      <td>168.589996</td>\n",
       "      <td>171.649994</td>\n",
       "      <td>5212200.0</td>\n",
       "    </tr>\n",
       "    <tr>\n",
       "      <th>4</th>\n",
       "      <td>125.199997</td>\n",
       "      <td>128.119995</td>\n",
       "      <td>5541700.0</td>\n",
       "    </tr>\n",
       "    <tr>\n",
       "      <th>...</th>\n",
       "      <td>...</td>\n",
       "      <td>...</td>\n",
       "      <td>...</td>\n",
       "    </tr>\n",
       "    <tr>\n",
       "      <th>83</th>\n",
       "      <td>117.519997</td>\n",
       "      <td>124.970001</td>\n",
       "      <td>7966900.0</td>\n",
       "    </tr>\n",
       "    <tr>\n",
       "      <th>84</th>\n",
       "      <td>323.519989</td>\n",
       "      <td>328.690002</td>\n",
       "      <td>2449800.0</td>\n",
       "    </tr>\n",
       "    <tr>\n",
       "      <th>85</th>\n",
       "      <td>394.019989</td>\n",
       "      <td>399.359985</td>\n",
       "      <td>2137800.0</td>\n",
       "    </tr>\n",
       "    <tr>\n",
       "      <th>86</th>\n",
       "      <td>501.670013</td>\n",
       "      <td>512.799988</td>\n",
       "      <td>4004700.0</td>\n",
       "    </tr>\n",
       "    <tr>\n",
       "      <th>87</th>\n",
       "      <td>311.399994</td>\n",
       "      <td>316.799988</td>\n",
       "      <td>9038200.0</td>\n",
       "    </tr>\n",
       "  </tbody>\n",
       "</table>\n",
       "<p>88 rows × 3 columns</p>\n",
       "</div>"
      ],
      "text/plain": [
       "           low        high     volume\n",
       "0   641.000000  653.250000  4320200.0\n",
       "1   712.270020  720.809998  2506900.0\n",
       "2   578.780029  603.390015  5152900.0\n",
       "3   168.589996  171.649994  5212200.0\n",
       "4   125.199997  128.119995  5541700.0\n",
       "..         ...         ...        ...\n",
       "83  117.519997  124.970001  7966900.0\n",
       "84  323.519989  328.690002  2449800.0\n",
       "85  394.019989  399.359985  2137800.0\n",
       "86  501.670013  512.799988  4004700.0\n",
       "87  311.399994  316.799988  9038200.0\n",
       "\n",
       "[88 rows x 3 columns]"
      ]
     },
     "execution_count": 152,
     "metadata": {},
     "output_type": "execute_result"
    }
   ],
   "source": [
    "# split between numerical columns and categorical columns\n",
    "data_inf_num = data_inf[list_num_cols]\n",
    "data_inf_cat = data_inf[list_cat_cols]\n",
    "\n",
    "data_inf_num"
   ]
  },
  {
   "cell_type": "code",
   "execution_count": 154,
   "metadata": {},
   "outputs": [
    {
     "data": {
      "text/plain": [
       "array([[0.7311666 , 0.73755889, 0.3936651 ],\n",
       "       [0.82869656, 0.82956989, 0.17967358],\n",
       "       [0.64602124, 0.66965381, 0.49193387],\n",
       "       [0.0846938 , 0.08166044, 0.49893199],\n",
       "       [0.02531646, 0.02237626, 0.53781701],\n",
       "       [0.38374272, 0.38549013, 0.22541511],\n",
       "       [0.25803628, 0.2552093 , 0.06137815],\n",
       "       [0.7600958 , 0.76581863, 0.43087435],\n",
       "       [0.31382825, 0.31265492, 0.24397843],\n",
       "       [0.75615464, 0.75831447, 0.19866174],\n",
       "       [0.44265482, 0.44059326, 0.22710268],\n",
       "       [0.83311665, 0.83974344, 0.24100452],\n",
       "       [0.69729729, 0.70178135, 0.20044373],\n",
       "       [0.20413273, 0.20405576, 0.20250894],\n",
       "       [0.09688676, 0.09936534, 0.71090551],\n",
       "       [0.17267192, 0.18019502, 0.85427853],\n",
       "       [0.89483403, 0.88998444, 0.05598499],\n",
       "       [0.57839203, 0.58392122, 0.23954117],\n",
       "       [0.10003422, 0.09695476, 0.38140364],\n",
       "       [0.22081423, 0.21941817, 0.13604447],\n",
       "       [0.11475881, 0.1126985 , 0.24316414],\n",
       "       [0.07682518, 0.07259009, 0.41072967],\n",
       "       [0.10374273, 0.10023696, 0.28222618],\n",
       "       [0.14754705, 0.14478522, 0.21819276],\n",
       "       [0.26071844, 0.2578242 , 0.09370169],\n",
       "       [0.39355458, 0.39057009, 0.10994017],\n",
       "       [0.36421485, 0.36097565, 0.19663193],\n",
       "       [0.15452617, 0.15731484, 1.41274768],\n",
       "       [0.01327404, 0.00886606, 0.52962696],\n",
       "       [0.2129319 , 0.21388879, 0.22174493],\n",
       "       [0.6207458 , 0.62545964, 0.39314585],\n",
       "       [0.88993501, 0.88976657, 0.30906216],\n",
       "       [0.45005814, 0.44713044, 0.11833084],\n",
       "       [0.20469381, 0.20400132, 0.16953633],\n",
       "       [0.6304208 , 0.63643667, 0.40017938],\n",
       "       [0.92015048, 0.92617054, 0.28191935],\n",
       "       [0.80700646, 0.80939993, 0.19008225],\n",
       "       [0.26047213, 0.26982267, 0.43639732],\n",
       "       [0.89243923, 0.89315772, 0.18157357],\n",
       "       [0.26657543, 0.26425244, 0.42086692],\n",
       "       [0.20548749, 0.20992562, 0.22702007],\n",
       "       [0.7766678 , 0.78055457, 0.38815394],\n",
       "       [0.26824495, 0.26899192, 0.40368434],\n",
       "       [0.27419775, 0.27776266, 0.30386962],\n",
       "       [0.89540884, 0.89247676, 0.11823643],\n",
       "       [0.1164557 , 0.11509546, 0.59001381],\n",
       "       [0.2056791 , 0.20554025, 0.1383339 ],\n",
       "       [0.34444063, 0.35566419, 0.52275865],\n",
       "       [0.62990078, 0.63986873, 0.34133849],\n",
       "       [0.7405405 , 0.7494212 , 0.36163659],\n",
       "       [0.09937736, 0.09946068, 0.54907537],\n",
       "       [0.56313379, 0.56896742, 0.35224282],\n",
       "       [0.90906601, 0.91282378, 0.15492642],\n",
       "       [0.08929182, 0.08577343, 0.31798388],\n",
       "       [0.01342457, 0.01029608, 0.71796264],\n",
       "       [0.21130343, 0.21136928, 0.21076979],\n",
       "       [0.13639411, 0.14117615, 0.39123405],\n",
       "       [0.20752652, 0.22304087, 1.08431972],\n",
       "       [0.12853918, 0.12750251, 0.55782008],\n",
       "       [0.29696885, 0.2933702 , 0.18793443],\n",
       "       [0.27848103, 0.27795331, 0.15489102],\n",
       "       [0.02203217, 0.0211233 , 3.10474763],\n",
       "       [0.33219297, 0.33236184, 0.47365378],\n",
       "       [0.08595278, 0.08315855, 0.46495628],\n",
       "       [0.25973315, 0.26122899, 0.26706161],\n",
       "       [0.29380772, 0.30241329, 0.38792971],\n",
       "       [0.37813204, 0.37775446, 0.20680458],\n",
       "       [0.3160862 , 0.31341759, 0.11271345],\n",
       "       [0.18446801, 0.184594  , 0.20758346],\n",
       "       [0.75354084, 0.76241385, 0.44478799],\n",
       "       [0.37885732, 0.3755618 , 0.12934137],\n",
       "       [0.15817994, 0.1568654 , 0.27495663],\n",
       "       [0.09963735, 0.09616485, 0.29119511],\n",
       "       [0.77278134, 0.78349627, 0.35377698],\n",
       "       [0.24704757, 0.2508512 , 0.33796335],\n",
       "       [0.08696545, 0.09405387, 1.25444611],\n",
       "       [0.10998291, 0.10763217, 0.35119251],\n",
       "       [0.90578168, 0.90334482, 0.14329042],\n",
       "       [0.09315088, 0.08969575, 0.50394751],\n",
       "       [0.63157026, 0.64979706, 0.46824882],\n",
       "       [0.0323777 , 0.02986679, 0.73833154],\n",
       "       [0.07978105, 0.08023044, 0.60871874],\n",
       "       [0.36331167, 0.36147956, 0.10990476],\n",
       "       [0.01480671, 0.01808623, 0.8240202 ],\n",
       "       [0.29670884, 0.29553564, 0.17293508],\n",
       "       [0.39318506, 0.39178217, 0.13611527],\n",
       "       [0.5404995 , 0.54627786, 0.35643226],\n",
       "       [0.28012315, 0.27934244, 0.95044668]])"
      ]
     },
     "execution_count": 154,
     "metadata": {},
     "output_type": "execute_result"
    }
   ],
   "source": [
    "# feature sfcaling and feature encoding\n",
    "\n",
    "data_inf_num_scaled = model_scaler.transform(data_inf_num)\n",
    "\n",
    "data_inf_num_scaled"
   ]
  },
  {
   "cell_type": "code",
   "execution_count": 156,
   "metadata": {},
   "outputs": [
    {
     "data": {
      "text/plain": [
       "array([[647.42534054],\n",
       "       [716.89774322],\n",
       "       [591.28892815],\n",
       "       [170.24096453],\n",
       "       [126.76026692],\n",
       "       [391.13635148],\n",
       "       [297.35536809],\n",
       "       [668.38183148],\n",
       "       [338.83917068],\n",
       "       [664.20343505],\n",
       "       [432.92552143],\n",
       "       [722.22591512],\n",
       "       [621.91495837],\n",
       "       [258.84938854],\n",
       "       [181.17493034],\n",
       "       [238.54296976],\n",
       "       [763.28888845],\n",
       "       [535.15589659],\n",
       "       [181.4683363 ],\n",
       "       [270.59618954],\n",
       "       [192.63175412],\n",
       "       [164.03958693],\n",
       "       [184.03297862],\n",
       "       [216.40575641],\n",
       "       [299.2959363 ],\n",
       "       [396.60993686],\n",
       "       [375.01465055],\n",
       "       [223.51519482],\n",
       "       [117.40209615],\n",
       "       [265.67296251],\n",
       "       [565.89529954],\n",
       "       [761.39470073],\n",
       "       [438.0382459 ],\n",
       "       [259.03755368],\n",
       "       [573.45835337],\n",
       "       [785.78627843],\n",
       "       [701.55450016],\n",
       "       [303.55746857],\n",
       "       [763.55437021],\n",
       "       [303.78979455],\n",
       "       [261.48197329],\n",
       "       [679.86015907],\n",
       "       [306.12881885],\n",
       "       [311.51671463],\n",
       "       [764.40559421],\n",
       "       [194.12338584],\n",
       "       [259.96129177],\n",
       "       [365.77145898],\n",
       "       [574.51400026],\n",
       "       [655.19941626],\n",
       "       [182.13290729],\n",
       "       [524.08267957],\n",
       "       [776.84363743],\n",
       "       [173.4376086 ],\n",
       "       [117.97382948],\n",
       "       [264.15606918],\n",
       "       [210.96985728],\n",
       "       [266.98453709],\n",
       "       [203.09671429],\n",
       "       [325.60395022],\n",
       "       [313.17158896],\n",
       "       [125.04524947],\n",
       "       [352.78095004],\n",
       "       [171.25107117],\n",
       "       [300.1655616 ],\n",
       "       [327.717228  ],\n",
       "       [386.25302804],\n",
       "       [339.95303854],\n",
       "       [244.51201578],\n",
       "       [664.72224191],\n",
       "       [385.72592171],\n",
       "       [224.72266317],\n",
       "       [181.03633628],\n",
       "       [679.49312394],\n",
       "       [291.70619772],\n",
       "       [175.56910748],\n",
       "       [189.0243586 ],\n",
       "       [772.18663309],\n",
       "       [176.28530736],\n",
       "       [578.73538889],\n",
       "       [132.08734762],\n",
       "       [167.90394093],\n",
       "       [374.8654769 ],\n",
       "       [121.31266074],\n",
       "       [326.2947743 ],\n",
       "       [396.91322549],\n",
       "       [507.47530904],\n",
       "       [314.26880628]])"
      ]
     },
     "execution_count": 156,
     "metadata": {},
     "output_type": "execute_result"
    }
   ],
   "source": [
    "# predict using linear regression\n",
    "y_pred_inf = model_lin_reg.predict(data_inf_num_scaled)\n",
    "y_pred_inf"
   ]
  },
  {
   "cell_type": "code",
   "execution_count": 157,
   "metadata": {},
   "outputs": [
    {
     "data": {
      "text/html": [
       "<div>\n",
       "<style scoped>\n",
       "    .dataframe tbody tr th:only-of-type {\n",
       "        vertical-align: middle;\n",
       "    }\n",
       "\n",
       "    .dataframe tbody tr th {\n",
       "        vertical-align: top;\n",
       "    }\n",
       "\n",
       "    .dataframe thead th {\n",
       "        text-align: right;\n",
       "    }\n",
       "</style>\n",
       "<table border=\"1\" class=\"dataframe\">\n",
       "  <thead>\n",
       "    <tr style=\"text-align: right;\">\n",
       "      <th></th>\n",
       "      <th>overall prediction</th>\n",
       "    </tr>\n",
       "  </thead>\n",
       "  <tbody>\n",
       "    <tr>\n",
       "      <th>0</th>\n",
       "      <td>647.425341</td>\n",
       "    </tr>\n",
       "    <tr>\n",
       "      <th>1</th>\n",
       "      <td>716.897743</td>\n",
       "    </tr>\n",
       "    <tr>\n",
       "      <th>2</th>\n",
       "      <td>591.288928</td>\n",
       "    </tr>\n",
       "    <tr>\n",
       "      <th>3</th>\n",
       "      <td>170.240965</td>\n",
       "    </tr>\n",
       "    <tr>\n",
       "      <th>4</th>\n",
       "      <td>126.760267</td>\n",
       "    </tr>\n",
       "    <tr>\n",
       "      <th>...</th>\n",
       "      <td>...</td>\n",
       "    </tr>\n",
       "    <tr>\n",
       "      <th>83</th>\n",
       "      <td>121.312661</td>\n",
       "    </tr>\n",
       "    <tr>\n",
       "      <th>84</th>\n",
       "      <td>326.294774</td>\n",
       "    </tr>\n",
       "    <tr>\n",
       "      <th>85</th>\n",
       "      <td>396.913225</td>\n",
       "    </tr>\n",
       "    <tr>\n",
       "      <th>86</th>\n",
       "      <td>507.475309</td>\n",
       "    </tr>\n",
       "    <tr>\n",
       "      <th>87</th>\n",
       "      <td>314.268806</td>\n",
       "    </tr>\n",
       "  </tbody>\n",
       "</table>\n",
       "<p>88 rows × 1 columns</p>\n",
       "</div>"
      ],
      "text/plain": [
       "    overall prediction\n",
       "0           647.425341\n",
       "1           716.897743\n",
       "2           591.288928\n",
       "3           170.240965\n",
       "4           126.760267\n",
       "..                 ...\n",
       "83          121.312661\n",
       "84          326.294774\n",
       "85          396.913225\n",
       "86          507.475309\n",
       "87          314.268806\n",
       "\n",
       "[88 rows x 1 columns]"
      ]
     },
     "execution_count": 157,
     "metadata": {},
     "output_type": "execute_result"
    }
   ],
   "source": [
    "# create dataframe of rating pred\n",
    "\n",
    "y_pred_inf_df = pd.DataFrame(y_pred_inf, columns=['overall prediction'])\n",
    "y_pred_inf_df"
   ]
  },
  {
   "cell_type": "code",
   "execution_count": 158,
   "metadata": {},
   "outputs": [
    {
     "data": {
      "text/html": [
       "<div>\n",
       "<style scoped>\n",
       "    .dataframe tbody tr th:only-of-type {\n",
       "        vertical-align: middle;\n",
       "    }\n",
       "\n",
       "    .dataframe tbody tr th {\n",
       "        vertical-align: top;\n",
       "    }\n",
       "\n",
       "    .dataframe thead th {\n",
       "        text-align: right;\n",
       "    }\n",
       "</style>\n",
       "<table border=\"1\" class=\"dataframe\">\n",
       "  <thead>\n",
       "    <tr style=\"text-align: right;\">\n",
       "      <th></th>\n",
       "      <th>date</th>\n",
       "      <th>symbol</th>\n",
       "      <th>open</th>\n",
       "      <th>close</th>\n",
       "      <th>low</th>\n",
       "      <th>high</th>\n",
       "      <th>volume</th>\n",
       "      <th>overall prediction</th>\n",
       "    </tr>\n",
       "  </thead>\n",
       "  <tbody>\n",
       "    <tr>\n",
       "      <th>0</th>\n",
       "      <td>2015-11-17</td>\n",
       "      <td>AMZN</td>\n",
       "      <td>650.650024</td>\n",
       "      <td>643.299988</td>\n",
       "      <td>641.000000</td>\n",
       "      <td>653.250000</td>\n",
       "      <td>4320200.0</td>\n",
       "      <td>647.425341</td>\n",
       "    </tr>\n",
       "    <tr>\n",
       "      <th>1</th>\n",
       "      <td>2016-06-14</td>\n",
       "      <td>AMZN</td>\n",
       "      <td>712.330017</td>\n",
       "      <td>719.299988</td>\n",
       "      <td>712.270020</td>\n",
       "      <td>720.809998</td>\n",
       "      <td>2506900.0</td>\n",
       "      <td>716.897743</td>\n",
       "    </tr>\n",
       "    <tr>\n",
       "      <th>2</th>\n",
       "      <td>2016-01-27</td>\n",
       "      <td>AMZN</td>\n",
       "      <td>601.989990</td>\n",
       "      <td>583.349976</td>\n",
       "      <td>578.780029</td>\n",
       "      <td>603.390015</td>\n",
       "      <td>5152900.0</td>\n",
       "      <td>591.288928</td>\n",
       "    </tr>\n",
       "    <tr>\n",
       "      <th>3</th>\n",
       "      <td>2010-11-05</td>\n",
       "      <td>AMZN</td>\n",
       "      <td>169.350006</td>\n",
       "      <td>170.770004</td>\n",
       "      <td>168.589996</td>\n",
       "      <td>171.649994</td>\n",
       "      <td>5212200.0</td>\n",
       "      <td>170.240965</td>\n",
       "    </tr>\n",
       "    <tr>\n",
       "      <th>4</th>\n",
       "      <td>2010-08-11</td>\n",
       "      <td>AMZN</td>\n",
       "      <td>128.100006</td>\n",
       "      <td>125.889999</td>\n",
       "      <td>125.199997</td>\n",
       "      <td>128.119995</td>\n",
       "      <td>5541700.0</td>\n",
       "      <td>126.760267</td>\n",
       "    </tr>\n",
       "    <tr>\n",
       "      <th>...</th>\n",
       "      <td>...</td>\n",
       "      <td>...</td>\n",
       "      <td>...</td>\n",
       "      <td>...</td>\n",
       "      <td>...</td>\n",
       "      <td>...</td>\n",
       "      <td>...</td>\n",
       "      <td>...</td>\n",
       "    </tr>\n",
       "    <tr>\n",
       "      <th>83</th>\n",
       "      <td>2010-05-21</td>\n",
       "      <td>AMZN</td>\n",
       "      <td>117.900002</td>\n",
       "      <td>122.720001</td>\n",
       "      <td>117.519997</td>\n",
       "      <td>124.970001</td>\n",
       "      <td>7966900.0</td>\n",
       "      <td>121.312661</td>\n",
       "    </tr>\n",
       "    <tr>\n",
       "      <th>84</th>\n",
       "      <td>2014-06-16</td>\n",
       "      <td>AMZN</td>\n",
       "      <td>324.859985</td>\n",
       "      <td>327.619995</td>\n",
       "      <td>323.519989</td>\n",
       "      <td>328.690002</td>\n",
       "      <td>2449800.0</td>\n",
       "      <td>326.294774</td>\n",
       "    </tr>\n",
       "    <tr>\n",
       "      <th>85</th>\n",
       "      <td>2014-01-02</td>\n",
       "      <td>AMZN</td>\n",
       "      <td>398.799988</td>\n",
       "      <td>397.970001</td>\n",
       "      <td>394.019989</td>\n",
       "      <td>399.359985</td>\n",
       "      <td>2137800.0</td>\n",
       "      <td>396.913225</td>\n",
       "    </tr>\n",
       "    <tr>\n",
       "      <th>86</th>\n",
       "      <td>2015-09-30</td>\n",
       "      <td>AMZN</td>\n",
       "      <td>505.440002</td>\n",
       "      <td>511.890015</td>\n",
       "      <td>501.670013</td>\n",
       "      <td>512.799988</td>\n",
       "      <td>4004700.0</td>\n",
       "      <td>507.475309</td>\n",
       "    </tr>\n",
       "    <tr>\n",
       "      <th>87</th>\n",
       "      <td>2014-10-23</td>\n",
       "      <td>AMZN</td>\n",
       "      <td>313.399994</td>\n",
       "      <td>313.179993</td>\n",
       "      <td>311.399994</td>\n",
       "      <td>316.799988</td>\n",
       "      <td>9038200.0</td>\n",
       "      <td>314.268806</td>\n",
       "    </tr>\n",
       "  </tbody>\n",
       "</table>\n",
       "<p>88 rows × 8 columns</p>\n",
       "</div>"
      ],
      "text/plain": [
       "          date symbol        open       close         low        high  \\\n",
       "0   2015-11-17   AMZN  650.650024  643.299988  641.000000  653.250000   \n",
       "1   2016-06-14   AMZN  712.330017  719.299988  712.270020  720.809998   \n",
       "2   2016-01-27   AMZN  601.989990  583.349976  578.780029  603.390015   \n",
       "3   2010-11-05   AMZN  169.350006  170.770004  168.589996  171.649994   \n",
       "4   2010-08-11   AMZN  128.100006  125.889999  125.199997  128.119995   \n",
       "..         ...    ...         ...         ...         ...         ...   \n",
       "83  2010-05-21   AMZN  117.900002  122.720001  117.519997  124.970001   \n",
       "84  2014-06-16   AMZN  324.859985  327.619995  323.519989  328.690002   \n",
       "85  2014-01-02   AMZN  398.799988  397.970001  394.019989  399.359985   \n",
       "86  2015-09-30   AMZN  505.440002  511.890015  501.670013  512.799988   \n",
       "87  2014-10-23   AMZN  313.399994  313.179993  311.399994  316.799988   \n",
       "\n",
       "       volume  overall prediction  \n",
       "0   4320200.0          647.425341  \n",
       "1   2506900.0          716.897743  \n",
       "2   5152900.0          591.288928  \n",
       "3   5212200.0          170.240965  \n",
       "4   5541700.0          126.760267  \n",
       "..        ...                 ...  \n",
       "83  7966900.0          121.312661  \n",
       "84  2449800.0          326.294774  \n",
       "85  2137800.0          396.913225  \n",
       "86  4004700.0          507.475309  \n",
       "87  9038200.0          314.268806  \n",
       "\n",
       "[88 rows x 8 columns]"
      ]
     },
     "execution_count": 158,
     "metadata": {},
     "output_type": "execute_result"
    }
   ],
   "source": [
    "# concate between inference\n",
    "\n",
    "data_final = pd.concat([data_inf, y_pred_inf_df], axis=1)\n",
    "data_final"
   ]
  },
  {
   "cell_type": "code",
   "execution_count": 160,
   "metadata": {},
   "outputs": [
    {
     "data": {
      "text/html": [
       "<div>\n",
       "<style scoped>\n",
       "    .dataframe tbody tr th:only-of-type {\n",
       "        vertical-align: middle;\n",
       "    }\n",
       "\n",
       "    .dataframe tbody tr th {\n",
       "        vertical-align: top;\n",
       "    }\n",
       "\n",
       "    .dataframe thead th {\n",
       "        text-align: right;\n",
       "    }\n",
       "</style>\n",
       "<table border=\"1\" class=\"dataframe\">\n",
       "  <thead>\n",
       "    <tr style=\"text-align: right;\">\n",
       "      <th></th>\n",
       "      <th>close</th>\n",
       "      <th>overall prediction</th>\n",
       "    </tr>\n",
       "  </thead>\n",
       "  <tbody>\n",
       "    <tr>\n",
       "      <th>0</th>\n",
       "      <td>643.299988</td>\n",
       "      <td>647.425341</td>\n",
       "    </tr>\n",
       "    <tr>\n",
       "      <th>1</th>\n",
       "      <td>719.299988</td>\n",
       "      <td>716.897743</td>\n",
       "    </tr>\n",
       "    <tr>\n",
       "      <th>2</th>\n",
       "      <td>583.349976</td>\n",
       "      <td>591.288928</td>\n",
       "    </tr>\n",
       "    <tr>\n",
       "      <th>3</th>\n",
       "      <td>170.770004</td>\n",
       "      <td>170.240965</td>\n",
       "    </tr>\n",
       "    <tr>\n",
       "      <th>4</th>\n",
       "      <td>125.889999</td>\n",
       "      <td>126.760267</td>\n",
       "    </tr>\n",
       "    <tr>\n",
       "      <th>...</th>\n",
       "      <td>...</td>\n",
       "      <td>...</td>\n",
       "    </tr>\n",
       "    <tr>\n",
       "      <th>83</th>\n",
       "      <td>122.720001</td>\n",
       "      <td>121.312661</td>\n",
       "    </tr>\n",
       "    <tr>\n",
       "      <th>84</th>\n",
       "      <td>327.619995</td>\n",
       "      <td>326.294774</td>\n",
       "    </tr>\n",
       "    <tr>\n",
       "      <th>85</th>\n",
       "      <td>397.970001</td>\n",
       "      <td>396.913225</td>\n",
       "    </tr>\n",
       "    <tr>\n",
       "      <th>86</th>\n",
       "      <td>511.890015</td>\n",
       "      <td>507.475309</td>\n",
       "    </tr>\n",
       "    <tr>\n",
       "      <th>87</th>\n",
       "      <td>313.179993</td>\n",
       "      <td>314.268806</td>\n",
       "    </tr>\n",
       "  </tbody>\n",
       "</table>\n",
       "<p>88 rows × 2 columns</p>\n",
       "</div>"
      ],
      "text/plain": [
       "         close  overall prediction\n",
       "0   643.299988          647.425341\n",
       "1   719.299988          716.897743\n",
       "2   583.349976          591.288928\n",
       "3   170.770004          170.240965\n",
       "4   125.889999          126.760267\n",
       "..         ...                 ...\n",
       "83  122.720001          121.312661\n",
       "84  327.619995          326.294774\n",
       "85  397.970001          396.913225\n",
       "86  511.890015          507.475309\n",
       "87  313.179993          314.268806\n",
       "\n",
       "[88 rows x 2 columns]"
      ]
     },
     "execution_count": 160,
     "metadata": {},
     "output_type": "execute_result"
    }
   ],
   "source": [
    "data_final[['close', 'overall prediction']]"
   ]
  },
  {
   "cell_type": "code",
   "execution_count": 162,
   "metadata": {},
   "outputs": [
    {
     "data": {
      "text/plain": [
       "0.9998362230375812"
      ]
     },
     "execution_count": 162,
     "metadata": {},
     "output_type": "execute_result"
    }
   ],
   "source": [
    "# r2 score for data inf\n",
    "r2_score(data_final['close'], data_final['overall prediction'])"
   ]
  },
  {
   "cell_type": "code",
   "execution_count": 179,
   "metadata": {},
   "outputs": [
    {
     "name": "stdout",
     "output_type": "stream",
     "text": [
      "intercept:  [109.28521287]\n",
      "slope:  [[ 3.69563336e+02  3.63272457e+02 -1.79588497e-02]]\n"
     ]
    }
   ],
   "source": [
    "# Get intercept and slop\n",
    "\n",
    "print('intercept: ', model_lin_reg.intercept_)\n",
    "print('slope: ', model_lin_reg.coef_)"
   ]
  },
  {
   "cell_type": "code",
   "execution_count": 180,
   "metadata": {},
   "outputs": [
    {
     "data": {
      "text/plain": [
       "['low', 'high', 'volume']"
      ]
     },
     "execution_count": 180,
     "metadata": {},
     "output_type": "execute_result"
    }
   ],
   "source": [
    "list_num_cols"
   ]
  },
  {
   "cell_type": "markdown",
   "metadata": {},
   "source": [
    "### 2.1.10 Pengambilan Kesimpulan:\n",
    "\n",
    "Kesimpulan yang dapat diambil adalah, nilai low dan high setiap harinya, sangat mempengaruhi nilai close price yang akan di prediksi. sedangkan nilai volume tidak terlalu memberikan efek yang signifikan\n",
    "\n"
   ]
  },
  {
   "cell_type": "markdown",
   "metadata": {},
   "source": [
    "## 2.2. Buatlah visualisasi yang menampilkan closing price saham Amazon, Cisco, Apple, dan Netflix berdasarkan date (time series). Saham apa yang memiliki closing price tertinggi dan terendah di akhir tahun 2014, 2015 dan 2016?\n",
    "\n"
   ]
  },
  {
   "cell_type": "code",
   "execution_count": 178,
   "metadata": {},
   "outputs": [],
   "source": [
    "# define data for every company needed\n",
    "price_data_amazon = raw_data_2.copy()\n",
    "price_data_cisco = raw_data_1[raw_data_1['symbol'] == 'CSCO']\n",
    "price_data_apple = raw_data_1[raw_data_1['symbol'] == 'AAPL']\n",
    "price_data_netflix = raw_data_1[raw_data_1['symbol'] == 'NFLX']"
   ]
  },
  {
   "cell_type": "code",
   "execution_count": null,
   "metadata": {},
   "outputs": [],
   "source": [
    "# Create Plot\n",
    "\n",
    "plt.figure(figsize=(13,13))\n",
    "plt.subplot(2,2,1)\n",
    "sns.lineplot(y = 'close', x= 'date', data= price_data_amazon)\n",
    "plt.title('time series of amazon close price')\n",
    "\n",
    "plt.subplot(2,2,2)\n",
    "sns.lineplot(y = 'close', x= 'date', data= price_data_cisco)\n",
    "plt.title('time series of cisco close price')\n",
    "\n",
    "plt.subplot(2,2,3)\n",
    "sns.lineplot(y = 'close', x= 'date', data= price_data_apple)\n",
    "plt.title('time series of apple close price')\n",
    "\n",
    "plt.subplot(2,2,4)\n",
    "sns.lineplot(y = 'close', x= 'date', data= price_data_netflix)\n",
    "plt.title('time series of netflix close price')\n",
    "\n",
    "\n",
    "plt.tight_layout()\n",
    "plt.show()"
   ]
  },
  {
   "cell_type": "markdown",
   "metadata": {},
   "source": [
    "## 2.3. BBuatlah model Logistic Regression untuk memprediksi Loan Pay Back (Dataset URL). Gunakan file loan_data.csv dalam kasus ini.\n"
   ]
  },
  {
   "cell_type": "markdown",
   "metadata": {},
   "source": [
    "### 2.3.1. Import library"
   ]
  },
  {
   "cell_type": "code",
   "execution_count": 177,
   "metadata": {},
   "outputs": [],
   "source": [
    "from matplotlib.colors import ListedColormap\n",
    "from sklearn.preprocessing import StandardScaler\n",
    "from sklearn.model_selection import train_test_split\n",
    "from sklearn.preprocessing import OneHotEncoder"
   ]
  },
  {
   "cell_type": "markdown",
   "metadata": {},
   "source": [
    "### 2.3.2. Data loading"
   ]
  },
  {
   "cell_type": "code",
   "execution_count": 182,
   "metadata": {},
   "outputs": [],
   "source": [
    "df = pd.read_csv('loan_data.csv')"
   ]
  },
  {
   "cell_type": "code",
   "execution_count": 183,
   "metadata": {},
   "outputs": [
    {
     "data": {
      "text/html": [
       "<div>\n",
       "<style scoped>\n",
       "    .dataframe tbody tr th:only-of-type {\n",
       "        vertical-align: middle;\n",
       "    }\n",
       "\n",
       "    .dataframe tbody tr th {\n",
       "        vertical-align: top;\n",
       "    }\n",
       "\n",
       "    .dataframe thead th {\n",
       "        text-align: right;\n",
       "    }\n",
       "</style>\n",
       "<table border=\"1\" class=\"dataframe\">\n",
       "  <thead>\n",
       "    <tr style=\"text-align: right;\">\n",
       "      <th></th>\n",
       "      <th>credit.policy</th>\n",
       "      <th>purpose</th>\n",
       "      <th>int.rate</th>\n",
       "      <th>installment</th>\n",
       "      <th>log.annual.inc</th>\n",
       "      <th>dti</th>\n",
       "      <th>fico</th>\n",
       "      <th>days.with.cr.line</th>\n",
       "      <th>revol.bal</th>\n",
       "      <th>revol.util</th>\n",
       "      <th>inq.last.6mths</th>\n",
       "      <th>delinq.2yrs</th>\n",
       "      <th>pub.rec</th>\n",
       "      <th>not.fully.paid</th>\n",
       "    </tr>\n",
       "  </thead>\n",
       "  <tbody>\n",
       "    <tr>\n",
       "      <th>0</th>\n",
       "      <td>1</td>\n",
       "      <td>debt_consolidation</td>\n",
       "      <td>0.1189</td>\n",
       "      <td>829.10</td>\n",
       "      <td>11.350407</td>\n",
       "      <td>19.48</td>\n",
       "      <td>737</td>\n",
       "      <td>5639.958333</td>\n",
       "      <td>28854</td>\n",
       "      <td>52.1</td>\n",
       "      <td>0</td>\n",
       "      <td>0</td>\n",
       "      <td>0</td>\n",
       "      <td>0</td>\n",
       "    </tr>\n",
       "    <tr>\n",
       "      <th>1</th>\n",
       "      <td>1</td>\n",
       "      <td>credit_card</td>\n",
       "      <td>0.1071</td>\n",
       "      <td>228.22</td>\n",
       "      <td>11.082143</td>\n",
       "      <td>14.29</td>\n",
       "      <td>707</td>\n",
       "      <td>2760.000000</td>\n",
       "      <td>33623</td>\n",
       "      <td>76.7</td>\n",
       "      <td>0</td>\n",
       "      <td>0</td>\n",
       "      <td>0</td>\n",
       "      <td>0</td>\n",
       "    </tr>\n",
       "    <tr>\n",
       "      <th>2</th>\n",
       "      <td>1</td>\n",
       "      <td>debt_consolidation</td>\n",
       "      <td>0.1357</td>\n",
       "      <td>366.86</td>\n",
       "      <td>10.373491</td>\n",
       "      <td>11.63</td>\n",
       "      <td>682</td>\n",
       "      <td>4710.000000</td>\n",
       "      <td>3511</td>\n",
       "      <td>25.6</td>\n",
       "      <td>1</td>\n",
       "      <td>0</td>\n",
       "      <td>0</td>\n",
       "      <td>0</td>\n",
       "    </tr>\n",
       "    <tr>\n",
       "      <th>3</th>\n",
       "      <td>1</td>\n",
       "      <td>debt_consolidation</td>\n",
       "      <td>0.1008</td>\n",
       "      <td>162.34</td>\n",
       "      <td>11.350407</td>\n",
       "      <td>8.10</td>\n",
       "      <td>712</td>\n",
       "      <td>2699.958333</td>\n",
       "      <td>33667</td>\n",
       "      <td>73.2</td>\n",
       "      <td>1</td>\n",
       "      <td>0</td>\n",
       "      <td>0</td>\n",
       "      <td>0</td>\n",
       "    </tr>\n",
       "    <tr>\n",
       "      <th>4</th>\n",
       "      <td>1</td>\n",
       "      <td>credit_card</td>\n",
       "      <td>0.1426</td>\n",
       "      <td>102.92</td>\n",
       "      <td>11.299732</td>\n",
       "      <td>14.97</td>\n",
       "      <td>667</td>\n",
       "      <td>4066.000000</td>\n",
       "      <td>4740</td>\n",
       "      <td>39.5</td>\n",
       "      <td>0</td>\n",
       "      <td>1</td>\n",
       "      <td>0</td>\n",
       "      <td>0</td>\n",
       "    </tr>\n",
       "  </tbody>\n",
       "</table>\n",
       "</div>"
      ],
      "text/plain": [
       "   credit.policy             purpose  int.rate  installment  log.annual.inc  \\\n",
       "0              1  debt_consolidation    0.1189       829.10       11.350407   \n",
       "1              1         credit_card    0.1071       228.22       11.082143   \n",
       "2              1  debt_consolidation    0.1357       366.86       10.373491   \n",
       "3              1  debt_consolidation    0.1008       162.34       11.350407   \n",
       "4              1         credit_card    0.1426       102.92       11.299732   \n",
       "\n",
       "     dti  fico  days.with.cr.line  revol.bal  revol.util  inq.last.6mths  \\\n",
       "0  19.48   737        5639.958333      28854        52.1               0   \n",
       "1  14.29   707        2760.000000      33623        76.7               0   \n",
       "2  11.63   682        4710.000000       3511        25.6               1   \n",
       "3   8.10   712        2699.958333      33667        73.2               1   \n",
       "4  14.97   667        4066.000000       4740        39.5               0   \n",
       "\n",
       "   delinq.2yrs  pub.rec  not.fully.paid  \n",
       "0            0        0               0  \n",
       "1            0        0               0  \n",
       "2            0        0               0  \n",
       "3            0        0               0  \n",
       "4            1        0               0  "
      ]
     },
     "execution_count": 183,
     "metadata": {},
     "output_type": "execute_result"
    }
   ],
   "source": [
    "df.head()"
   ]
  }
 ],
 "metadata": {
  "kernelspec": {
   "display_name": "Python 3.9.12 ('base')",
   "language": "python",
   "name": "python3"
  },
  "language_info": {
   "codemirror_mode": {
    "name": "ipython",
    "version": 3
   },
   "file_extension": ".py",
   "mimetype": "text/x-python",
   "name": "python",
   "nbconvert_exporter": "python",
   "pygments_lexer": "ipython3",
   "version": "3.9.12"
  },
  "orig_nbformat": 4,
  "vscode": {
   "interpreter": {
    "hash": "1b15b47e994a45b2c1c9c2019b348cb81bbb68780db9285c808c045d049d064a"
   }
  }
 },
 "nbformat": 4,
 "nbformat_minor": 2
}
